{
 "cells": [
  {
   "metadata": {
    "ExecuteTime": {
     "end_time": "2025-06-16T13:13:23.533296Z",
     "start_time": "2025-06-16T13:13:23.376067Z"
    }
   },
   "cell_type": "code",
   "source": [
    "import pandas as pd\n",
    "import numpy as np\n",
    "import seaborn as sns\n",
    "import matplotlib.pyplot as plt\n",
    "from sklearn.preprocessing import LabelEncoder, OneHotEncoder"
   ],
   "id": "d4287d6e7e212ff1",
   "outputs": [],
   "execution_count": 2
  },
  {
   "metadata": {
    "ExecuteTime": {
     "end_time": "2025-06-16T13:13:24.695607Z",
     "start_time": "2025-06-16T13:13:24.577361Z"
    }
   },
   "cell_type": "code",
   "source": [
    "df = pd.read_csv('C:/Users/tneron2023/PycharmProjects/Python_IA/project_hotel/datas/Hotel_Reservations.csv')\n",
    "df.info()"
   ],
   "id": "faf45b5f579363a9",
   "outputs": [
    {
     "name": "stdout",
     "output_type": "stream",
     "text": [
      "<class 'pandas.core.frame.DataFrame'>\n",
      "RangeIndex: 29999 entries, 0 to 29998\n",
      "Data columns (total 19 columns):\n",
      " #   Column                                Non-Null Count  Dtype  \n",
      "---  ------                                --------------  -----  \n",
      " 0   Booking_ID                            29999 non-null  object \n",
      " 1   no_of_adults                          29999 non-null  object \n",
      " 2   no_of_children                        29999 non-null  int64  \n",
      " 3   no_of_weekend_nights                  29999 non-null  int64  \n",
      " 4   no_of_week_nights                     29999 non-null  int64  \n",
      " 5   type_of_meal_plan                     29999 non-null  object \n",
      " 6   required_car_parking_space            29999 non-null  int64  \n",
      " 7   room_type_reserved                    29999 non-null  object \n",
      " 8   lead_time                             29999 non-null  int64  \n",
      " 9   arrival_year                          29999 non-null  int64  \n",
      " 10  arrival_month                         29999 non-null  int64  \n",
      " 11  arrival_date                          29999 non-null  int64  \n",
      " 12  market_segment_type                   29999 non-null  object \n",
      " 13  repeated_guest                        29999 non-null  int64  \n",
      " 14  no_of_previous_cancellations          29999 non-null  int64  \n",
      " 15  no_of_previous_bookings_not_canceled  29999 non-null  int64  \n",
      " 16  avg_price_per_room                    29999 non-null  float64\n",
      " 17  no_of_special_requests                29999 non-null  int64  \n",
      " 18  booking_status                        29999 non-null  object \n",
      "dtypes: float64(1), int64(12), object(6)\n",
      "memory usage: 4.3+ MB\n"
     ]
    }
   ],
   "execution_count": 3
  }
 ],
 "metadata": {
  "kernelspec": {
   "display_name": "Python [conda env:base] *",
   "language": "python",
   "name": "conda-base-py"
  },
  "language_info": {
   "codemirror_mode": {
    "name": "ipython",
    "version": 2
   },
   "file_extension": ".py",
   "mimetype": "text/x-python",
   "name": "python",
   "nbconvert_exporter": "python",
   "pygments_lexer": "ipython2",
   "version": "2.7.6"
  }
 },
 "nbformat": 4,
 "nbformat_minor": 5
}
