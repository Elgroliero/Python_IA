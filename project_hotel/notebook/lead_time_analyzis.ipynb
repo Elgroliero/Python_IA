{
 "cells": [
  {
   "cell_type": "code",
   "id": "initial_id",
   "metadata": {
    "collapsed": true,
    "ExecuteTime": {
     "end_time": "2025-06-16T15:27:56.117934Z",
     "start_time": "2025-06-16T15:27:55.800568Z"
    }
   },
   "source": [
    "import pandas as pd\n",
    "import numpy as np\n",
    "import matplotlib.pyplot as plt\n",
    "import seaborn as sns\n",
    "from sklearn.model_selection import train_test_split\n",
    "from sklearn.ensemble import RandomForestClassifier\n",
    "from sklearn.inspection import permutation_importance\n",
    "from sklearn.feature_selection import mutual_info_classif\n",
    "from scipy.stats import pointbiserialr, mannwhitneyu\n",
    "import warnings\n",
    "warnings.filterwarnings('ignore')"
   ],
   "outputs": [],
   "execution_count": 1
  },
  {
   "metadata": {
    "ExecuteTime": {
     "end_time": "2025-06-16T15:28:04.393659Z",
     "start_time": "2025-06-16T15:28:04.198349Z"
    }
   },
   "cell_type": "code",
   "source": [
    "# 1. CHARGEMENT DU DATASET NETTOYÉ\n",
    "print(\"\\n📊 1. CHARGEMENT DU DATASET OPTIMISÉ\")\n",
    "df = pd.read_csv('C:/Users/tneron2023/PycharmProjects/Python_IA/project_hotel/datas/Hotel_cleaned_safe.csv')\n",
    "\n",
    "print(f\"✅ Dataset chargé - Shape: {df.shape}\")\n",
    "print(f\"Features totales: {df.shape[1]}\")\n",
    "\n",
    "# Séparation X et y\n",
    "y = df['target']\n",
    "X = df.drop('target', axis=1)\n",
    "\n",
    "print(f\"✅ Séparation effectuée - X: {X.shape}, y: {y.shape}\")\n",
    "print(f\"Taux d'annulation: {(1-y.mean())*100:.1f}%\")"
   ],
   "id": "a738b4a8a0953a7a",
   "outputs": [
    {
     "name": "stdout",
     "output_type": "stream",
     "text": [
      "\n",
      "📊 1. CHARGEMENT DU DATASET OPTIMISÉ\n",
      "✅ Dataset chargé - Shape: (29999, 48)\n",
      "Features totales: 48\n",
      "✅ Séparation effectuée - X: (29999, 47), y: (29999,)\n",
      "Taux d'annulation: 32.7%\n"
     ]
    }
   ],
   "execution_count": 2
  },
  {
   "metadata": {
    "ExecuteTime": {
     "end_time": "2025-06-16T15:28:26.640723Z",
     "start_time": "2025-06-16T15:28:26.623455Z"
    }
   },
   "cell_type": "code",
   "source": [
    "# 2. ANALYSE SPÉCIFIQUE DU LEAD_TIME ORIGINAL vs NOUVELLES FEATURES\n",
    "print(\"\\n⏰ 2. COMPARAISON LEAD_TIME ORIGINAL vs NOUVELLES FEATURES\")\n",
    "\n",
    "lead_time_features = [\n",
    "    'lead_time',\n",
    "    'lead_time_very_short', 'lead_time_short', 'lead_time_medium', 'lead_time_long',\n",
    "    'lead_time_log', 'lead_time_std'\n",
    "]\n",
    "\n",
    "# Vérifier quelles features lead_time existent\n",
    "available_lead_features = [f for f in lead_time_features if f in X.columns]\n",
    "print(f\"Features lead_time disponibles: {available_lead_features}\")\n",
    "\n",
    "# Statistiques par segment de lead_time\n",
    "if 'lead_time' in X.columns:\n",
    "    print(f\"\\n📊 ANALYSE PAR SEGMENTS DE LEAD_TIME:\")\n",
    "\n",
    "    # Créer un DataFrame temporaire pour l'analyse\n",
    "    df_analysis = pd.DataFrame({\n",
    "        'lead_time': X['lead_time'],\n",
    "        'target': y\n",
    "    })\n",
    "\n",
    "    # Définir les segments\n",
    "    segments = {\n",
    "        'Très Court (0-7j)': (0, 7),\n",
    "        'Court (8-30j)': (8, 30),\n",
    "        'Moyen (31-90j)': (31, 90),\n",
    "        'Long (91-180j)': (91, 180),\n",
    "        'Très Long (>180j)': (181, 999)\n",
    "    }\n",
    "\n",
    "    print(\"Segment | Échantillons | Taux Annulation | Lead Time Moyen\")\n",
    "    print(\"-\" * 65)\n",
    "\n",
    "    for segment_name, (min_days, max_days) in segments.items():\n",
    "        mask = (df_analysis['lead_time'] >= min_days) & (df_analysis['lead_time'] <= max_days)\n",
    "        segment_data = df_analysis[mask]\n",
    "\n",
    "        if len(segment_data) > 0:\n",
    "            count = len(segment_data)\n",
    "            cancellation_rate = 1 - segment_data['target'].mean()\n",
    "            avg_lead_time = segment_data['lead_time'].mean()\n",
    "\n",
    "            print(f\"{segment_name:<20} | {count:>11} | {cancellation_rate:>14.1%} | {avg_lead_time:>14.1f}\")\n"
   ],
   "id": "d793d66c9b7c043",
   "outputs": [
    {
     "name": "stdout",
     "output_type": "stream",
     "text": [
      "\n",
      "⏰ 2. COMPARAISON LEAD_TIME ORIGINAL vs NOUVELLES FEATURES\n",
      "Features lead_time disponibles: ['lead_time', 'lead_time_very_short', 'lead_time_short', 'lead_time_medium', 'lead_time_long', 'lead_time_log', 'lead_time_std']\n",
      "\n",
      "📊 ANALYSE PAR SEGMENTS DE LEAD_TIME:\n",
      "Segment | Échantillons | Taux Annulation | Lead Time Moyen\n",
      "-----------------------------------------------------------------\n",
      "Très Court (0-7j)    |        4750 |           9.0% |            2.7\n",
      "Court (8-30j)        |        5460 |          18.5% |           17.8\n",
      "Moyen (31-90j)       |        8955 |          24.9% |           56.9\n",
      "Long (91-180j)       |        6438 |          45.0% |          129.3\n",
      "Très Long (>180j)    |        4396 |          73.9% |          253.2\n"
     ]
    }
   ],
   "execution_count": 3
  },
  {
   "metadata": {
    "ExecuteTime": {
     "end_time": "2025-06-16T15:29:14.346743Z",
     "start_time": "2025-06-16T15:29:14.316002Z"
    }
   },
   "cell_type": "code",
   "source": [
    "# 3. PRÉPARATION POUR L'ANALYSE ML\n",
    "print(\"\\n🤖 3. ANALYSE MACHINE LEARNING\")\n",
    "\n",
    "X_train, X_test, y_train, y_test = train_test_split(\n",
    "    X, y, test_size=0.2, random_state=42, stratify=y\n",
    ")\n",
    "\n",
    "print(f\"Train: {X_train.shape[0]} échantillons\")\n",
    "print(f\"Test: {X_test.shape[0]} échantillons\")"
   ],
   "id": "5babcd82801f096e",
   "outputs": [
    {
     "name": "stdout",
     "output_type": "stream",
     "text": [
      "\n",
      "🤖 3. ANALYSE MACHINE LEARNING\n",
      "Train: 23999 échantillons\n",
      "Test: 6000 échantillons\n"
     ]
    }
   ],
   "execution_count": 4
  },
  {
   "metadata": {
    "ExecuteTime": {
     "end_time": "2025-06-16T15:29:35.509984Z",
     "start_time": "2025-06-16T15:29:32.308269Z"
    }
   },
   "cell_type": "code",
   "source": [
    "# 4. RANDOM FOREST FEATURE IMPORTANCE\n",
    "print(\"\\n🌲 4. RANDOM FOREST FEATURE IMPORTANCE\")\n",
    "\n",
    "rf = RandomForestClassifier(n_estimators=100, random_state=42)\n",
    "rf.fit(X_train, y_train)\n",
    "\n",
    "# Calculer l'importance\n",
    "rf_importance = pd.DataFrame({\n",
    "    'feature': X_train.columns,\n",
    "    'importance': rf.feature_importances_\n",
    "}).sort_values('importance', ascending=False)\n",
    "\n",
    "print(\"🏆 TOP 20 FEATURES (Random Forest):\")\n",
    "print(rf_importance.head(20))\n",
    "\n",
    "# Position spécifique du lead_time\n",
    "lead_time_analysis = {}\n",
    "for feature in available_lead_features:\n",
    "    if feature in rf_importance['feature'].values:\n",
    "        position = rf_importance[rf_importance['feature'] == feature].index[0] + 1\n",
    "        score = rf_importance[rf_importance['feature'] == feature]['importance'].iloc[0]\n",
    "        lead_time_analysis[feature] = {'position': position, 'score': score}\n",
    "\n",
    "print(f\"\\n⏰ RANKING DES FEATURES LEAD_TIME:\")\n",
    "for feature, stats in sorted(lead_time_analysis.items(), key=lambda x: x[1]['position']):\n",
    "    print(f\"   {feature}: #{stats['position']} (score: {stats['score']:.4f})\")"
   ],
   "id": "daf78d8a43643862",
   "outputs": [
    {
     "name": "stdout",
     "output_type": "stream",
     "text": [
      "\n",
      "🌲 4. RANDOM FOREST FEATURE IMPORTANCE\n",
      "🏆 TOP 20 FEATURES (Random Forest):\n",
      "                        feature  importance\n",
      "34                lead_time_log    0.119174\n",
      "35                lead_time_std    0.102676\n",
      "13       no_of_special_requests    0.091630\n",
      "5                     lead_time    0.088837\n",
      "12           avg_price_per_room    0.079477\n",
      "40              price_per_guest    0.064203\n",
      "41              price_per_night    0.060289\n",
      "8                  arrival_date    0.050087\n",
      "7                 arrival_month    0.044886\n",
      "33               lead_time_long    0.034053\n",
      "29   market_segment_type_Online    0.028379\n",
      "36                 total_nights    0.024265\n",
      "3             no_of_week_nights    0.023614\n",
      "37                weekend_ratio    0.023004\n",
      "28  market_segment_type_Offline    0.018317\n",
      "2          no_of_weekend_nights    0.016529\n",
      "6                  arrival_year    0.015063\n",
      "38                 total_guests    0.013039\n",
      "0                  no_of_adults    0.011146\n",
      "45                  peak_season    0.009503\n",
      "\n",
      "⏰ RANKING DES FEATURES LEAD_TIME:\n",
      "   lead_time: #6 (score: 0.0888)\n",
      "   lead_time_very_short: #31 (score: 0.0075)\n",
      "   lead_time_short: #32 (score: 0.0051)\n",
      "   lead_time_medium: #33 (score: 0.0044)\n",
      "   lead_time_long: #34 (score: 0.0341)\n",
      "   lead_time_log: #35 (score: 0.1192)\n",
      "   lead_time_std: #36 (score: 0.1027)\n"
     ]
    }
   ],
   "execution_count": 5
  },
  {
   "metadata": {
    "ExecuteTime": {
     "end_time": "2025-06-16T15:30:48.730529Z",
     "start_time": "2025-06-16T15:30:23.254878Z"
    }
   },
   "cell_type": "code",
   "source": [
    "# 5. PERMUTATION IMPORTANCE\n",
    "print(\"\\n🔄 5. PERMUTATION IMPORTANCE\")\n",
    "\n",
    "perm_importance = permutation_importance(rf, X_test, y_test, n_repeats=5, random_state=42)\n",
    "\n",
    "perm_df = pd.DataFrame({\n",
    "    'feature': X_test.columns,\n",
    "    'importance_mean': perm_importance.importances_mean,\n",
    "    'importance_std': perm_importance.importances_std\n",
    "}).sort_values('importance_mean', ascending=False)\n",
    "\n",
    "print(\"🏆 TOP 15 FEATURES (Permutation):\")\n",
    "print(perm_df.head(15))"
   ],
   "id": "a58919f129096a07",
   "outputs": [
    {
     "name": "stdout",
     "output_type": "stream",
     "text": [
      "\n",
      "🔄 5. PERMUTATION IMPORTANCE\n",
      "🏆 TOP 15 FEATURES (Permutation):\n",
      "                          feature  importance_mean  importance_std\n",
      "13         no_of_special_requests         0.108833        0.001095\n",
      "12             avg_price_per_room         0.025600        0.001361\n",
      "29     market_segment_type_Online         0.022533        0.002156\n",
      "34                  lead_time_log         0.010733        0.001587\n",
      "7                   arrival_month         0.008767        0.001806\n",
      "6                    arrival_year         0.007467        0.000694\n",
      "28    market_segment_type_Offline         0.006467        0.000662\n",
      "40                price_per_guest         0.005167        0.001261\n",
      "4      required_car_parking_space         0.003600        0.000533\n",
      "37                  weekend_ratio         0.001767        0.000772\n",
      "41                price_per_night         0.001400        0.001747\n",
      "46                     low_season         0.001300        0.000067\n",
      "8                    arrival_date         0.001267        0.001332\n",
      "2            no_of_weekend_nights         0.001167        0.000558\n",
      "27  market_segment_type_Corporate         0.001033        0.000245\n"
     ]
    }
   ],
   "execution_count": 6
  },
  {
   "metadata": {
    "ExecuteTime": {
     "end_time": "2025-06-16T15:31:15.741089Z",
     "start_time": "2025-06-16T15:31:09.397977Z"
    }
   },
   "cell_type": "code",
   "source": [
    "# 6. MUTUAL INFORMATION\n",
    "print(\"\\n🧠 6. MUTUAL INFORMATION\")\n",
    "\n",
    "mi_scores = mutual_info_classif(X_train, y_train, random_state=42)\n",
    "mi_df = pd.DataFrame({\n",
    "    'feature': X_train.columns,\n",
    "    'mutual_info': mi_scores\n",
    "}).sort_values('mutual_info', ascending=False)\n",
    "\n",
    "print(\"🏆 TOP 15 FEATURES (Mutual Information):\")\n",
    "print(mi_df.head(15))"
   ],
   "id": "a76091e02c9c88cc",
   "outputs": [
    {
     "name": "stdout",
     "output_type": "stream",
     "text": [
      "\n",
      "🧠 6. MUTUAL INFORMATION\n",
      "🏆 TOP 15 FEATURES (Mutual Information):\n",
      "                   feature  mutual_info\n",
      "5                lead_time     0.133289\n",
      "34           lead_time_log     0.132954\n",
      "35           lead_time_std     0.127547\n",
      "41         price_per_night     0.117878\n",
      "40         price_per_guest     0.101410\n",
      "12      avg_price_per_room     0.089967\n",
      "33          lead_time_long     0.077453\n",
      "13  no_of_special_requests     0.036227\n",
      "30    lead_time_very_short     0.025682\n",
      "7            arrival_month     0.021354\n",
      "6             arrival_year     0.017191\n",
      "36            total_nights     0.012418\n",
      "44           loyalty_score     0.012288\n",
      "3        no_of_week_nights     0.009553\n",
      "31         lead_time_short     0.008458\n"
     ]
    }
   ],
   "execution_count": 7
  },
  {
   "metadata": {
    "ExecuteTime": {
     "end_time": "2025-06-16T15:31:31.727815Z",
     "start_time": "2025-06-16T15:31:31.592407Z"
    }
   },
   "cell_type": "code",
   "source": [
    "# 7. CORRÉLATION AVEC LA TARGET\n",
    "print(\"\\n📊 7. CORRÉLATION AVEC LA TARGET\")\n",
    "\n",
    "correlations = []\n",
    "for col in X_train.columns:\n",
    "    corr, p_val = pointbiserialr(y_train, X_train[col])\n",
    "    correlations.append({\n",
    "        'feature': col,\n",
    "        'correlation': abs(corr),\n",
    "        'p_value': p_val\n",
    "    })\n",
    "\n",
    "corr_df = pd.DataFrame(correlations).sort_values('correlation', ascending=False)\n",
    "print(\"🏆 TOP 15 FEATURES (Corrélation Absolue):\")\n",
    "print(corr_df.head(15))"
   ],
   "id": "415a9b075dc968d6",
   "outputs": [
    {
     "name": "stdout",
     "output_type": "stream",
     "text": [
      "\n",
      "📊 7. CORRÉLATION AVEC LA TARGET\n",
      "🏆 TOP 15 FEATURES (Corrélation Absolue):\n",
      "                          feature  correlation        p_value\n",
      "5                       lead_time     0.441992   0.000000e+00\n",
      "35                  lead_time_std     0.441992   0.000000e+00\n",
      "33                 lead_time_long     0.385190   0.000000e+00\n",
      "34                  lead_time_log     0.380926   0.000000e+00\n",
      "13         no_of_special_requests     0.252358   0.000000e+00\n",
      "30           lead_time_very_short     0.217615  3.727906e-255\n",
      "6                    arrival_year     0.175966  3.671940e-166\n",
      "31                lead_time_short     0.143251  3.237608e-110\n",
      "12             avg_price_per_room     0.136299  7.266388e-100\n",
      "29     market_segment_type_Online     0.118721   4.651885e-76\n",
      "27  market_segment_type_Corporate     0.114739   3.920941e-71\n",
      "32               lead_time_medium     0.109460   7.238451e-65\n",
      "9                  repeated_guest     0.105281   4.047337e-60\n",
      "36                   total_nights     0.096331   1.396091e-50\n",
      "4      required_car_parking_space     0.090100   1.907567e-44\n"
     ]
    }
   ],
   "execution_count": 8
  },
  {
   "metadata": {
    "ExecuteTime": {
     "end_time": "2025-06-16T15:31:54.904656Z",
     "start_time": "2025-06-16T15:31:54.837457Z"
    }
   },
   "cell_type": "code",
   "source": [
    "# 8. SYNTHÈSE ET RANKING GLOBAL\n",
    "print(\"\\n🏅 8. SYNTHÈSE ET RANKING GLOBAL\")\n",
    "\n",
    "# Normalisation et calcul du score moyen\n",
    "all_features = set(X_train.columns)\n",
    "feature_scores = {}\n",
    "\n",
    "for feature in all_features:\n",
    "    scores = []\n",
    "\n",
    "    # Score Random Forest\n",
    "    rf_score = rf_importance[rf_importance['feature'] == feature]['importance'].iloc[0]\n",
    "    scores.append(rf_score)\n",
    "\n",
    "    # Score Permutation\n",
    "    perm_score = perm_df[perm_df['feature'] == feature]['importance_mean'].iloc[0]\n",
    "    scores.append(perm_score)\n",
    "\n",
    "    # Score Mutual Info\n",
    "    mi_score = mi_df[mi_df['feature'] == feature]['mutual_info'].iloc[0]\n",
    "    scores.append(mi_score)\n",
    "\n",
    "    # Score Corrélation\n",
    "    corr_score = corr_df[corr_df['feature'] == feature]['correlation'].iloc[0]\n",
    "    scores.append(corr_score)\n",
    "\n",
    "    feature_scores[feature] = np.mean(scores)\n",
    "\n",
    "# Ranking final\n",
    "final_ranking = pd.DataFrame({\n",
    "    'feature': list(feature_scores.keys()),\n",
    "    'average_score': list(feature_scores.values())\n",
    "}).sort_values('average_score', ascending=False)\n",
    "\n",
    "print(\"🏆 RANKING FINAL DES FEATURES (Moyenne des 4 méthodes):\")\n",
    "print(final_ranking.head(25))"
   ],
   "id": "ce09782493448b45",
   "outputs": [
    {
     "name": "stdout",
     "output_type": "stream",
     "text": [
      "\n",
      "🏅 8. SYNTHÈSE ET RANKING GLOBAL\n",
      "🏆 RANKING FINAL DES FEATURES (Moyenne des 4 méthodes):\n",
      "                              feature  average_score\n",
      "40                      lead_time_std       0.167995\n",
      "46                          lead_time       0.166038\n",
      "8                       lead_time_log       0.160947\n",
      "16                     lead_time_long       0.123891\n",
      "14             no_of_special_requests       0.122262\n",
      "25                 avg_price_per_room       0.082836\n",
      "42               lead_time_very_short       0.062644\n",
      "43                       arrival_year       0.053922\n",
      "18                    price_per_guest       0.051523\n",
      "22                    price_per_night       0.049650\n",
      "7          market_segment_type_Online       0.044514\n",
      "1                     lead_time_short       0.039168\n",
      "27                       total_nights       0.033370\n",
      "24      market_segment_type_Corporate       0.031774\n",
      "13                   lead_time_medium       0.030151\n",
      "35                  no_of_week_nights       0.029924\n",
      "4                      repeated_guest       0.027591\n",
      "21                       total_guests       0.025894\n",
      "28         required_car_parking_space       0.024810\n",
      "30                       no_of_adults       0.023769\n",
      "3                          low_season       0.023733\n",
      "17      type_of_meal_plan_Meal Plan 2       0.023441\n",
      "36                      arrival_month       0.022043\n",
      "26               no_of_weekend_nights       0.020381\n",
      "39  market_segment_type_Complementary       0.020136\n"
     ]
    }
   ],
   "execution_count": 9
  },
  {
   "metadata": {
    "ExecuteTime": {
     "end_time": "2025-06-16T15:32:26.533024Z",
     "start_time": "2025-06-16T15:32:26.515193Z"
    }
   },
   "cell_type": "code",
   "source": [
    "# 9. FOCUS SUR LES FEATURES LEAD_TIME\n",
    "print(\"\\n⏰ 9. ANALYSE DÉTAILLÉE DES FEATURES LEAD_TIME\")\n",
    "\n",
    "lead_time_ranking = final_ranking[final_ranking['feature'].isin(available_lead_features)].copy()\n",
    "lead_time_ranking = lead_time_ranking.sort_values('average_score', ascending=False)\n",
    "\n",
    "print(\"🏆 RANKING DES FEATURES LEAD_TIME:\")\n",
    "for i, row in lead_time_ranking.iterrows():\n",
    "    overall_position = final_ranking[final_ranking['feature'] == row['feature']].index[0] + 1\n",
    "    print(f\"   {row['feature']}: #{overall_position} global (score: {row['average_score']:.4f})\")\n",
    "\n",
    "# Meilleure feature lead_time\n",
    "if not lead_time_ranking.empty:\n",
    "    best_lead_feature = lead_time_ranking.iloc[0]\n",
    "    best_position = final_ranking[final_ranking['feature'] == best_lead_feature['feature']].index[0] + 1\n",
    "\n",
    "    print(f\"\\n🥇 MEILLEURE FEATURE LEAD_TIME:\")\n",
    "    print(f\"   {best_lead_feature['feature']}\")\n",
    "    print(f\"   Position globale: #{best_position}\")\n",
    "    print(f\"   Score: {best_lead_feature['average_score']:.4f}\")\n",
    "\n",
    "    if best_position <= 5:\n",
    "        impact = \"MAJEUR\"\n",
    "        confidence = \"TRÈS ÉLEVÉE\"\n",
    "    elif best_position <= 10:\n",
    "        impact = \"IMPORTANT\"\n",
    "        confidence = \"ÉLEVÉE\"\n",
    "    elif best_position <= 20:\n",
    "        impact = \"MODÉRÉ\"\n",
    "        confidence = \"MOYENNE\"\n",
    "    else:\n",
    "        impact = \"FAIBLE\"\n",
    "        confidence = \"FAIBLE\"\n",
    "\n",
    "    print(f\"   Impact estimé: {impact}\")\n",
    "    print(f\"   Confiance: {confidence}\")"
   ],
   "id": "3a597ffa5790b351",
   "outputs": [
    {
     "name": "stdout",
     "output_type": "stream",
     "text": [
      "\n",
      "⏰ 9. ANALYSE DÉTAILLÉE DES FEATURES LEAD_TIME\n",
      "🏆 RANKING DES FEATURES LEAD_TIME:\n",
      "   lead_time_std: #41 global (score: 0.1680)\n",
      "   lead_time: #47 global (score: 0.1660)\n",
      "   lead_time_log: #9 global (score: 0.1609)\n",
      "   lead_time_long: #17 global (score: 0.1239)\n",
      "   lead_time_very_short: #43 global (score: 0.0626)\n",
      "   lead_time_short: #2 global (score: 0.0392)\n",
      "   lead_time_medium: #14 global (score: 0.0302)\n",
      "\n",
      "🥇 MEILLEURE FEATURE LEAD_TIME:\n",
      "   lead_time_std\n",
      "   Position globale: #41\n",
      "   Score: 0.1680\n",
      "   Impact estimé: FAIBLE\n",
      "   Confiance: FAIBLE\n"
     ]
    }
   ],
   "execution_count": 10
  },
  {
   "metadata": {
    "ExecuteTime": {
     "end_time": "2025-06-16T15:33:03.065428Z",
     "start_time": "2025-06-16T15:33:01.371297Z"
    }
   },
   "cell_type": "code",
   "source": [
    "# 10. VISUALISATIONS\n",
    "print(\"\\n📊 10. VISUALISATIONS\")\n",
    "\n",
    "# Graphique d'importance des features lead_time\n",
    "if len(lead_time_ranking) > 1:\n",
    "    plt.figure(figsize=(12, 8))\n",
    "\n",
    "    # Subplot 1: Importance des features lead_time\n",
    "    plt.subplot(2, 2, 1)\n",
    "    plt.barh(range(len(lead_time_ranking)), lead_time_ranking['average_score'], color='skyblue')\n",
    "    plt.yticks(range(len(lead_time_ranking)), lead_time_ranking['feature'])\n",
    "    plt.xlabel('Score d\\'Importance Moyen')\n",
    "    plt.title('Importance des Features Lead_Time')\n",
    "    plt.gca().invert_yaxis()\n",
    "\n",
    "    # Subplot 2: Top 15 features globales\n",
    "    plt.subplot(2, 2, 2)\n",
    "    top_15 = final_ranking.head(15)\n",
    "    colors = ['red' if 'lead_time' in f else 'lightgray' for f in top_15['feature']]\n",
    "    plt.barh(range(len(top_15)), top_15['average_score'], color=colors)\n",
    "    plt.yticks(range(len(top_15)), top_15['feature'])\n",
    "    plt.xlabel('Score d\\'Importance Moyen')\n",
    "    plt.title('Top 15 Features (Lead_Time en rouge)')\n",
    "    plt.gca().invert_yaxis()\n",
    "\n",
    "    # Subplot 3: Distribution du lead_time par statut\n",
    "    if 'lead_time' in X.columns:\n",
    "        plt.subplot(2, 2, 3)\n",
    "        canceled = X[y == 0]['lead_time']\n",
    "        not_canceled = X[y == 1]['lead_time']\n",
    "        plt.hist([canceled, not_canceled], bins=30, alpha=0.7,\n",
    "                label=['Annulé', 'Non Annulé'], color=['red', 'green'])\n",
    "        plt.xlabel('Lead Time (jours)')\n",
    "        plt.ylabel('Fréquence')\n",
    "        plt.title('Distribution Lead Time par Statut')\n",
    "        plt.legend()\n",
    "\n",
    "    # Subplot 4: Performance du modèle\n",
    "    plt.subplot(2, 2, 4)\n",
    "    accuracy = rf.score(X_test, y_test)\n",
    "    y_pred_proba = rf.predict_proba(X_test)[:, 1]\n",
    "    from sklearn.metrics import roc_auc_score\n",
    "    auc = roc_auc_score(y_test, y_pred_proba)\n",
    "\n",
    "    metrics = ['Accuracy', 'ROC-AUC']\n",
    "    values = [accuracy, auc]\n",
    "    plt.bar(metrics, values, color=['lightblue', 'lightcoral'])\n",
    "    plt.ylabel('Score')\n",
    "    plt.title('Performance du Modèle')\n",
    "    plt.ylim(0, 1)\n",
    "\n",
    "    for i, v in enumerate(values):\n",
    "        plt.text(i, v + 0.01, f'{v:.3f}', ha='center')\n",
    "\n",
    "    plt.tight_layout()\n",
    "    plt.show()"
   ],
   "id": "79b5c4bda173a8bf",
   "outputs": [
    {
     "name": "stdout",
     "output_type": "stream",
     "text": [
      "\n",
      "📊 10. VISUALISATIONS\n"
     ]
    },
    {
     "data": {
      "text/plain": [
       "<Figure size 1200x800 with 4 Axes>"
      ],
      "image/png": "[encoded data removed]"
     },
     "metadata": {},
     "output_type": "display_data"
    }
   ],
   "execution_count": 11
  },
  {
   "metadata": {
    "ExecuteTime": {
     "end_time": "2025-06-16T15:33:40.036171Z",
     "start_time": "2025-06-16T15:33:39.910563Z"
    }
   },
   "cell_type": "code",
   "source": [
    "# 11. CONCLUSIONS ET RECOMMANDATIONS\n",
    "print(\"\\n💡 11. CONCLUSIONS ET RECOMMANDATIONS\")\n",
    "\n",
    "if not lead_time_ranking.empty:\n",
    "    best_lead_feature = lead_time_ranking.iloc[0]\n",
    "    best_position = final_ranking[final_ranking['feature'] == best_lead_feature['feature']].index[0] + 1\n",
    "\n",
    "    print(f\"\\n🎯 VALIDATION SCIENTIFIQUE DU LEAD_TIME:\")\n",
    "\n",
    "    if best_position <= 5:\n",
    "        print(\"   ✅ CONFIRMÉ: Lead_time est un facteur MAJEUR d'annulation\")\n",
    "        print(\"   📈 Recommandations prioritaires:\")\n",
    "        print(\"      • Politique tarifaire dynamique basée sur lead_time\")\n",
    "        print(\"      • Scoring de risque avec lead_time comme variable principale\")\n",
    "        print(\"      • Communication proactive pour réservations >90j\")\n",
    "        print(\"      • Conditions d'annulation ajustées selon segments\")\n",
    "\n",
    "    elif best_position <= 10:\n",
    "        print(\"   ✅ CONFIRMÉ: Lead_time est un facteur IMPORTANT d'annulation\")\n",
    "        print(\"   📈 Recommandations:\")\n",
    "        print(\"      • Modèle composite: lead_time + 2-3 autres variables top\")\n",
    "        print(\"      • Segmentation clients selon délai de réservation\")\n",
    "        print(\"      • Tests A/B par segment de lead_time\")\n",
    "\n",
    "    elif best_position <= 20:\n",
    "        print(\"   ⚠️ Lead_time a un impact MODÉRÉ\")\n",
    "        print(\"   📈 Recommandations:\")\n",
    "        print(\"      • Utiliser lead_time en variable secondaire\")\n",
    "        print(\"      • Se concentrer sur les variables top du ranking\")\n",
    "        print(\"      • Combiner avec d'autres features temporelles\")\n",
    "\n",
    "    else:\n",
    "        print(\"   ❌ Lead_time a un impact FAIBLE dans ce modèle\")\n",
    "        print(\"   📈 Recommandations:\")\n",
    "        print(\"      • Investiguer d'autres variables temporelles\")\n",
    "        print(\"      • Se concentrer sur les top 10 du ranking\")\n",
    "\n",
    "    # Performance attendue\n",
    "    accuracy = rf.score(X_test, y_test)\n",
    "    print(f\"\\n📊 PERFORMANCE DU MODÈLE OPTIMISÉ:\")\n",
    "    print(f\"   Accuracy: {accuracy:.1%}\")\n",
    "    print(f\"   Amélioration estimée vs baseline: +{(accuracy-0.67)*100:.1f} points\")\n",
    "\n",
    "    print(f\"\\n🚀 FEATURES À UTILISER EN PRIORITÉ:\")\n",
    "    top_features = final_ranking.head(10)['feature'].tolist()\n",
    "    for i, feature in enumerate(top_features, 1):\n",
    "        marker = \"⭐\" if 'lead_time' in feature else \"•\"\n",
    "        print(f\"   {marker} {i}. {feature}\")\n",
    "\n",
    "print(\"\\n🎉 ANALYSE TERMINÉE!\")\n",
    "print(f\"✅ Lead_time analysé avec 4 méthodes scientifiques\")\n",
    "print(f\"📊 {len(available_lead_features)} variations de lead_time créées et testées\")\n",
    "print(f\"🏆 Ranking définitif établi sur {len(final_ranking)} features\")"
   ],
   "id": "dc9e9b32ee900751",
   "outputs": [
    {
     "name": "stdout",
     "output_type": "stream",
     "text": [
      "\n",
      "💡 11. CONCLUSIONS ET RECOMMANDATIONS\n",
      "\n",
      "🎯 VALIDATION SCIENTIFIQUE DU LEAD_TIME:\n",
      "   ❌ Lead_time a un impact FAIBLE dans ce modèle\n",
      "   📈 Recommandations:\n",
      "      • Investiguer d'autres variables temporelles\n",
      "      • Se concentrer sur les top 10 du ranking\n",
      "\n",
      "📊 PERFORMANCE DU MODÈLE OPTIMISÉ:\n",
      "   Accuracy: 89.8%\n",
      "   Amélioration estimée vs baseline: +22.8 points\n",
      "\n",
      "🚀 FEATURES À UTILISER EN PRIORITÉ:\n",
      "   ⭐ 1. lead_time_std\n",
      "   ⭐ 2. lead_time\n",
      "   ⭐ 3. lead_time_log\n",
      "   ⭐ 4. lead_time_long\n",
      "   • 5. no_of_special_requests\n",
      "   • 6. avg_price_per_room\n",
      "   ⭐ 7. lead_time_very_short\n",
      "   • 8. arrival_year\n",
      "   • 9. price_per_guest\n",
      "   • 10. price_per_night\n",
      "\n",
      "🎉 ANALYSE TERMINÉE!\n",
      "✅ Lead_time analysé avec 4 méthodes scientifiques\n",
      "📊 7 variations de lead_time créées et testées\n",
      "🏆 Ranking définitif établi sur 47 features\n"
     ]
    }
   ],
   "execution_count": 12
  }
 ],
 "metadata": {
  "kernelspec": {
   "display_name": "Python [conda env:base] *",
   "language": "python",
   "name": "conda-base-py"
  },
  "language_info": {
   "codemirror_mode": {
    "name": "ipython",
    "version": 2
   },
   "file_extension": ".py",
   "mimetype": "text/x-python",
   "name": "python",
   "nbconvert_exporter": "python",
   "pygments_lexer": "ipython2",
   "version": "2.7.6"
  }
 },
 "nbformat": 4,
 "nbformat_minor": 5
}
