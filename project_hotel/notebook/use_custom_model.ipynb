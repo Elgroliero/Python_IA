{
 "cells": [
  {
   "cell_type": "code",
   "id": "initial_id",
   "metadata": {
    "collapsed": true,
    "ExecuteTime": {
     "end_time": "2025-06-20T11:40:39.723342Z",
     "start_time": "2025-06-20T11:40:36.823911Z"
    }
   },
   "source": [
    "import pandas as pd\n",
    "import pickle\n",
    "import os\n",
    "\n",
    "# --- Configuration paths (Adjust if necessary) ---\n",
    "model_storage_path = 'C:/Users/tneron2023/PycharmProjects/Python_IA/project_hotel/model/'\n",
    "\n",
    "print(\"Loading the adapted model (Pipeline) for prediction...\")\n",
    "\n",
    "try:\n",
    "    with open(f'{model_storage_path}hotel_cancellation_pipeline_model.pkl', 'rb') as file:\n",
    "        adapted_model = pickle.load(file)\n",
    "    print(\"✅ Adapted model (Pipeline) loaded successfully.\")\n",
    "except FileNotFoundError:\n",
    "    print(f\"❌ Error: Adapted model file not found at {model_storage_path}hotel_cancellation_pipeline_model.pkl\")\n",
    "    print(\"Please ensure you have run the 'model_adaptation.ipynb' script first to generate this file, and that it's in the correct 'model/' subdirectory.\")\n",
    "    exit()\n",
    "\n",
    "csv_datas_test = pd.read_csv('C:/Users/tneron2023/PycharmProjects/Python_IA/project_hotel/datas/Donnees_test.csv')\n",
    "\n",
    "print(f\"\\nShape of raw test data: {csv_datas_test.shape}\")\n",
    "print(f\"Columns of raw test data: {csv_datas_test.columns.tolist()}\")\n",
    "\n",
    "print(\"\\nMaking predictions with the adapted model...\")\n",
    "prediction_test = adapted_model.predict(csv_datas_test)\n",
    "\n",
    "print(\"\\n--- Predictions ---\")\n",
    "print(prediction_test)\n",
    "print(f\"Number of predictions: {len(prediction_test)}\")\n",
    "\n",
    "\n",
    "# Créer le DataFrame\n",
    "df_predictions = pd.DataFrame(prediction_test)\n",
    "\n",
    "# Exporter sans nom de colonnes ni index\n",
    "df_predictions.to_csv(\"predictions.csv\", index=False, header=False)\n"
   ],
   "outputs": [
    {
     "name": "stdout",
     "output_type": "stream",
     "text": [
      "Loading the adapted model (Pipeline) for prediction...\n",
      "✅ Adapted model (Pipeline) loaded successfully.\n",
      "\n",
      "Shape of raw test data: (6276, 18)\n",
      "Columns of raw test data: ['Booking_ID', 'no_of_adults', 'no_of_children', 'no_of_weekend_nights', 'no_of_week_nights', 'type_of_meal_plan', 'required_car_parking_space', 'room_type_reserved', 'lead_time', 'arrival_year', 'arrival_month', 'arrival_date', 'market_segment_type', 'repeated_guest', 'no_of_previous_cancellations', 'no_of_previous_bookings_not_canceled', 'avg_price_per_room', 'no_of_special_requests']\n",
      "\n",
      "Making predictions with the adapted model...\n",
      "\n",
      "--- Predictions ---\n",
      "[1. 1. 1. ... 1. 1. 1.]\n",
      "Number of predictions: 6276\n"
     ]
    },
    {
     "name": "stderr",
     "output_type": "stream",
     "text": [
      "C:\\ProgramData\\anaconda3\\Lib\\site-packages\\sklearn\\base.py:493: UserWarning: X does not have valid feature names, but RandomForestClassifier was fitted with feature names\n",
      "  warnings.warn(\n"
     ]
    }
   ],
   "execution_count": 1
  },
  {
   "metadata": {
    "ExecuteTime": {
     "end_time": "2025-06-20T11:40:39.751165Z",
     "start_time": "2025-06-20T11:40:39.738968Z"
    }
   },
   "cell_type": "code",
   "source": "",
   "id": "8b1a3f65dc56a356",
   "outputs": [],
   "execution_count": null
  }
 ],
 "metadata": {
  "kernelspec": {
   "display_name": "Python [conda env:base] *",
   "language": "python",
   "name": "conda-base-py"
  },
  "language_info": {
   "codemirror_mode": {
    "name": "ipython",
    "version": 2
   },
   "file_extension": ".py",
   "mimetype": "text/x-python",
   "name": "python",
   "nbconvert_exporter": "python",
   "pygments_lexer": "ipython2",
   "version": "2.7.6"
  }
 },
 "nbformat": 4,
 "nbformat_minor": 5
}
