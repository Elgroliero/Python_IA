{
 "cells": [
  {
   "cell_type": "code",
   "id": "initial_id",
   "metadata": {
    "collapsed": true,
    "ExecuteTime": {
     "end_time": "2025-06-17T08:33:06.241910Z",
     "start_time": "2025-06-17T08:33:05.059808Z"
    }
   },
   "source": [
    "import pickle\n",
    "from sklearn.ensemble import RandomForestClassifier\n",
    "\n",
    "\n",
    "import pandas as pd\n",
    "\n",
    "with open('C:/Users/tneron2023/PycharmProjects/Python_IA/project_hotel/model/hotel_cancellation_model.pkl', 'rb') as file:\n",
    "    model_hotel_cancellation_rf = pickle.load(file)\n",
    "\n",
    "    csv_datas_test = pd.read_csv('C:/Users/tneron2023/PycharmProjects/Python_IA/project_hotel/datas/Donnees_test.csv')\n",
    "\n",
    "    prediction_test = model_hotel_cancellation_rf.predict(csv_datas_test)\n",
    "\n",
    "    print(prediction_test)"
   ],
   "outputs": [
    {
     "ename": "AttributeError",
     "evalue": "'numpy.ndarray' object has no attribute 'predict'",
     "output_type": "error",
     "traceback": [
      "\u001B[1;31m---------------------------------------------------------------------------\u001B[0m",
      "\u001B[1;31mAttributeError\u001B[0m                            Traceback (most recent call last)",
      "Cell \u001B[1;32mIn[1], line 10\u001B[0m\n\u001B[0;32m      6\u001B[0m model_hotel_cancellation_rf \u001B[38;5;241m=\u001B[39m pickle\u001B[38;5;241m.\u001B[39mload(file)\n\u001B[0;32m      8\u001B[0m csv_datas_test \u001B[38;5;241m=\u001B[39m pd\u001B[38;5;241m.\u001B[39mread_csv(\u001B[38;5;124m'\u001B[39m\u001B[38;5;124mC:/Users/tneron2023/PycharmProjects/Python_IA/project_hotel/datas/Donnees_test.csv\u001B[39m\u001B[38;5;124m'\u001B[39m)\n\u001B[1;32m---> 10\u001B[0m prediction_test \u001B[38;5;241m=\u001B[39m model_hotel_cancellation_rf\u001B[38;5;241m.\u001B[39mpredict(csv_datas_test)\n\u001B[0;32m     12\u001B[0m \u001B[38;5;28mprint\u001B[39m(prediction_test)\n",
      "\u001B[1;31mAttributeError\u001B[0m: 'numpy.ndarray' object has no attribute 'predict'"
     ]
    }
   ],
   "execution_count": 1
  }
 ],
 "metadata": {
  "kernelspec": {
   "display_name": "Python [conda env:base] *",
   "language": "python",
   "name": "conda-base-py"
  },
  "language_info": {
   "codemirror_mode": {
    "name": "ipython",
    "version": 2
   },
   "file_extension": ".py",
   "mimetype": "text/x-python",
   "name": "python",
   "nbconvert_exporter": "python",
   "pygments_lexer": "ipython2",
   "version": "2.7.6"
  }
 },
 "nbformat": 4,
 "nbformat_minor": 5
}
