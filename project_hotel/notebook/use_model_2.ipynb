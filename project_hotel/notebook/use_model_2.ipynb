{
 "cells": [
  {
   "metadata": {
    "ExecuteTime": {
     "end_time": "2025-06-20T12:18:14.818032Z",
     "start_time": "2025-06-20T12:18:13.852294Z"
    }
   },
   "cell_type": "code",
   "source": [
    "import pandas as pd\n",
    "import pickle\n",
    "from sklearn.compose import ColumnTransformer\n",
    "from sklearn.preprocessing import StandardScaler, OneHotEncoder\n",
    "from sklearn.pipeline import Pipeline\n",
    "from sklearn.ensemble import RandomForestClassifier\n",
    "import os\n",
    "\n",
    "# Configuration des chemins\n",
    "data_path = 'C:/Users/tneron2023/PycharmProjects/Python_IA/project_hotel/datas'\n",
    "model_storage_path = 'C:/Users/tneron2023/PycharmProjects/Python_IA/project_hotel/model'\n",
    "\n",
    "# Chargement des données d'entraînement\n",
    "df_train = pd.read_csv('C:/Users/tneron2023/PycharmProjects/Python_IA/project_hotel/datas/Hotel_clean.csv')\n",
    "\n",
    "# Définition des caractéristiques\n",
    "numerical_features = [\n",
    "    'no_of_adults', 'no_of_children', 'no_of_weekend_nights', 'no_of_week_nights',\n",
    "    'required_car_parking_space', 'lead_time', 'arrival_month', 'repeated_guest',\n",
    "    'no_of_previous_cancellations', 'no_of_previous_bookings_not_canceled'\n",
    "]\n",
    "\n",
    "# Création du pipeline\n",
    "preprocessor = ColumnTransformer(\n",
    "    transformers=[\n",
    "        ('num', StandardScaler(), numerical_features)\n",
    "    ]\n",
    ")\n",
    "\n",
    "# Création et entraînement du pipeline complet\n",
    "pipeline = Pipeline([\n",
    "    ('preprocessor', preprocessor),\n",
    "    ('classifier', RandomForestClassifier(max_depth=5, random_state=42))\n",
    "])\n",
    "\n",
    "# Entraînement\n",
    "X_train = df_train[numerical_features]\n",
    "y_train = df_train['booking_status_Not_Canceled']\n",
    "pipeline.fit(X_train, y_train)\n",
    "\n",
    "# Sauvegarde du modèle\n",
    "with open(f'{model_storage_path}/hotel_cancellation_pipeline_model.pkl', 'wb') as file:\n",
    "    pickle.dump(pipeline, file)\n",
    "\n",
    "print(\"✅ Modèle entraîné et sauvegardé avec succès\")"
   ],
   "id": "41191814603c842",
   "outputs": [
    {
     "name": "stdout",
     "output_type": "stream",
     "text": [
      "✅ Modèle entraîné et sauvegardé avec succès\n"
     ]
    }
   ],
   "execution_count": 9
  },
  {
   "metadata": {
    "ExecuteTime": {
     "end_time": "2025-06-20T12:18:40.722856Z",
     "start_time": "2025-06-20T12:18:40.632365Z"
    }
   },
   "cell_type": "code",
   "source": [
    "import pandas as pd\n",
    "import pickle\n",
    "\n",
    "# Chargement du modèle\n",
    "with open(f'{model_storage_path}/hotel_cancellation_pipeline_model.pkl', 'rb') as file:\n",
    "    model = pickle.load(file)\n",
    "\n",
    "# Chargement des données de test\n",
    "test_data = pd.read_csv('C:/Users/tneron2023/PycharmProjects/Python_IA/project_hotel/datas/Donnees_test.csv')\n",
    "\n",
    "# Sélection des mêmes colonnes que pour l'entraînement\n",
    "X_test = test_data[[\n",
    "    'no_of_adults', 'no_of_children', 'no_of_weekend_nights', 'no_of_week_nights',\n",
    "    'required_car_parking_space', 'lead_time', 'arrival_month', 'repeated_guest',\n",
    "    'no_of_previous_cancellations', 'no_of_previous_bookings_not_canceled'\n",
    "]]\n",
    "\n",
    "# Prédictions\n",
    "predictions = model.predict(X_test)\n",
    "\n",
    "# Création du DataFrame des prédictions\n",
    "df_predictions = pd.DataFrame(predictions)\n",
    "\n",
    "# Export au format CSV\n",
    "df_predictions.to_csv(\"predictions.csv\", index=False, header=False)\n",
    "\n",
    "print(\"Nombre de prédictions :\", len(predictions))\n",
    "print(\"Premières prédictions :\", predictions[:10])"
   ],
   "id": "441ecef00f896c02",
   "outputs": [
    {
     "name": "stdout",
     "output_type": "stream",
     "text": [
      "Nombre de prédictions : 6276\n",
      "Premières prédictions : [1. 1. 1. 1. 1. 1. 0. 1. 1. 1.]\n"
     ]
    }
   ],
   "execution_count": 10
  }
 ],
 "metadata": {
  "kernelspec": {
   "display_name": "Python [conda env:base] *",
   "language": "python",
   "name": "conda-base-py"
  },
  "language_info": {
   "codemirror_mode": {
    "name": "ipython",
    "version": 2
   },
   "file_extension": ".py",
   "mimetype": "text/x-python",
   "name": "python",
   "nbconvert_exporter": "python",
   "pygments_lexer": "ipython2",
   "version": "2.7.6"
  }
 },
 "nbformat": 4,
 "nbformat_minor": 5
}
