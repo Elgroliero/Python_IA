{
 "cells": [
  {
   "cell_type": "code",
   "id": "initial_id",
   "metadata": {
    "collapsed": true,
    "ExecuteTime": {
     "end_time": "2025-06-20T12:16:31.938311Z",
     "start_time": "2025-06-20T12:16:31.919346Z"
    }
   },
   "source": [
    "import pandas as pd\n",
    "import pickle\n",
    "from sklearn.compose import ColumnTransformer\n",
    "from sklearn.preprocessing import OneHotEncoder, StandardScaler\n",
    "from sklearn.pipeline import Pipeline\n",
    "from sklearn.ensemble import RandomForestClassifier\n",
    "import os\n"
   ],
   "outputs": [],
   "execution_count": 22
  },
  {
   "metadata": {
    "ExecuteTime": {
     "end_time": "2025-06-20T12:16:32.003054Z",
     "start_time": "2025-06-20T12:16:31.977481Z"
    }
   },
   "cell_type": "code",
   "source": [
    "data_path = 'C:/Users/tneron2023/PycharmProjects/Python_IA/project_hotel/datas'\n",
    "model_storage_path = 'C:/Users/tneron2023/PycharmProjects/Python_IA/project_hotel/model'\n",
    "\n",
    "data_train = pd.read_csv('C:/Users/tneron2023/PycharmProjects/Python_IA/project_hotel/datas/Donnees_test.csv')\n",
    "\n",
    "\n",
    "# Ensure model storage directory exists\n",
    "os.makedirs(data_path, exist_ok=True)\n",
    "os.makedirs(model_storage_path, exist_ok=True)\n",
    "\n",
    "print(\"Creating the adapted model (Pipeline) with explicit categories...\")\n"
   ],
   "id": "cd2768b989f4d098",
   "outputs": [
    {
     "name": "stdout",
     "output_type": "stream",
     "text": [
      "Creating the adapted model (Pipeline) with explicit categories...\n"
     ]
    }
   ],
   "execution_count": 23
  },
  {
   "metadata": {
    "ExecuteTime": {
     "end_time": "2025-06-20T12:16:33.061045Z",
     "start_time": "2025-06-20T12:16:32.044085Z"
    }
   },
   "cell_type": "code",
   "source": [
    "# Chargement des données d'entraînement\n",
    "df_train = pd.read_csv('C:/Users/tneron2023/PycharmProjects/Python_IA/project_hotel/datas/Hotel_clean.csv', low_memory=False)\n",
    "\n",
    "# Définition des caractéristiques comme dans train_datas_decision_tree.ipynb\n",
    "numerical_features = [\n",
    "    'no_of_adults', 'no_of_children', 'no_of_weekend_nights',\n",
    "    'no_of_week_nights', 'required_car_parking_space', 'lead_time',\n",
    "    'arrival_month', 'repeated_guest', 'no_of_previous_cancellations',\n",
    "    'no_of_previous_bookings_not_canceled'\n",
    "]\n",
    "\n",
    "# On garde uniquement les caractéristiques numériques pour le moment\n",
    "X_train = df_train[numerical_features]\n",
    "y_train = df_train['booking_status_Not_Canceled']\n",
    "\n",
    "# Définition du préprocesseur simplifié\n",
    "preprocessor = ColumnTransformer(\n",
    "    transformers=[\n",
    "        ('num', StandardScaler(), numerical_features)\n",
    "    ]\n",
    ")\n",
    "\n",
    "# Création du pipeline\n",
    "pipeline = Pipeline([\n",
    "    ('preprocessor', preprocessor),\n",
    "    ('classifier', RandomForestClassifier(max_depth=5, random_state=42))\n",
    "])\n",
    "\n",
    "# Entraînement sur les données complètes\n",
    "pipeline.fit(X_train, y_train)\n",
    "\n",
    "# Sauvegarde du modèle\n",
    "with open(f'{model_storage_path}/hotel_cancellation_pipeline_model.pkl', 'wb') as file:\n",
    "    pickle.dump(pipeline, file)\n",
    "\n",
    "print(\"✅ Modèle entraîné et sauvegardé avec succès\")\n",
    "\n",
    "# Test sur les données de test\n",
    "test_data = pd.read_csv(f'{data_path}/Donnees_test.csv')\n",
    "predictions = pipeline.predict(test_data[numerical_features])\n",
    "print(\"\\nPremières prédictions:\", predictions[:10])"
   ],
   "id": "7d34205d29c73aee",
   "outputs": [
    {
     "name": "stdout",
     "output_type": "stream",
     "text": [
      "✅ Modèle entraîné et sauvegardé avec succès\n",
      "\n",
      "Premières prédictions: [1. 1. 1. 1. 1. 1. 0. 1. 1. 1.]\n"
     ]
    }
   ],
   "execution_count": 24
  },
  {
   "metadata": {
    "ExecuteTime": {
     "end_time": "2025-06-20T12:16:33.148794Z",
     "start_time": "2025-06-20T12:16:33.141776Z"
    }
   },
   "cell_type": "code",
   "source": "",
   "id": "fd6e0dc55263c6f9",
   "outputs": [],
   "execution_count": null
  }
 ],
 "metadata": {
  "kernelspec": {
   "display_name": "Python [conda env:base] *",
   "language": "python",
   "name": "conda-base-py"
  },
  "language_info": {
   "codemirror_mode": {
    "name": "ipython",
    "version": 2
   },
   "file_extension": ".py",
   "mimetype": "text/x-python",
   "name": "python",
   "nbconvert_exporter": "python",
   "pygments_lexer": "ipython2",
   "version": "2.7.6"
  }
 },
 "nbformat": 4,
 "nbformat_minor": 5
}
