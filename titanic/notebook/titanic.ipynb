{
 "cells": [
  {
   "cell_type": "code",
   "id": "initial_id",
   "metadata": {
    "collapsed": true,
    "ExecuteTime": {
     "end_time": "2025-06-12T12:31:00.237591Z",
     "start_time": "2025-06-12T12:31:00.234347Z"
    }
   },
   "source": [
    "from statistics import correlation\n",
    "\n",
    "import pandas as pd\n",
    "import numpy as np\n",
    "import seaborn as sns\n",
    "import matplotlib.pyplot as plt"
   ],
   "outputs": [],
   "execution_count": 289
  },
  {
   "metadata": {
    "ExecuteTime": {
     "end_time": "2025-06-12T12:31:00.268670Z",
     "start_time": "2025-06-12T12:31:00.254344Z"
    }
   },
   "cell_type": "code",
   "source": [
    "df = pd.read_csv('D:/PythonProject1/titanic/datas/Titanic.csv')\n",
    "\n",
    "df.head()"
   ],
   "id": "710b7ae7a3d56597",
   "outputs": [
    {
     "data": {
      "text/plain": [
       "   PassengerId  Survived  Pclass  \\\n",
       "0            1         0       3   \n",
       "1            2         1       1   \n",
       "2            3         1       3   \n",
       "3            4         1       1   \n",
       "4            5         0       3   \n",
       "\n",
       "                                                Name     Sex   Age  SibSp  \\\n",
       "0                            Braund, Mr. Owen Harris    male  22.0      1   \n",
       "1  Cumings, Mrs. John Bradley (Florence Briggs Th...  female  38.0      1   \n",
       "2                             Heikkinen, Miss. Laina  female  26.0      0   \n",
       "3       Futrelle, Mrs. Jacques Heath (Lily May Peel)  female  35.0      1   \n",
       "4                           Allen, Mr. William Henry    male  35.0      0   \n",
       "\n",
       "   Parch            Ticket     Fare Cabin Embarked  \n",
       "0      0         A/5 21171   7.2500   NaN        S  \n",
       "1      0          PC 17599  71.2833   C85        C  \n",
       "2      0  STON/O2. 3101282   7.9250   NaN        S  \n",
       "3      0            113803  53.1000  C123        S  \n",
       "4      0            373450   8.0500   NaN        S  "
      ],
      "text/html": [
       "<div>\n",
       "<style scoped>\n",
       "    .dataframe tbody tr th:only-of-type {\n",
       "        vertical-align: middle;\n",
       "    }\n",
       "\n",
       "    .dataframe tbody tr th {\n",
       "        vertical-align: top;\n",
       "    }\n",
       "\n",
       "    .dataframe thead th {\n",
       "        text-align: right;\n",
       "    }\n",
       "</style>\n",
       "<table border=\"1\" class=\"dataframe\">\n",
       "  <thead>\n",
       "    <tr style=\"text-align: right;\">\n",
       "      <th></th>\n",
       "      <th>PassengerId</th>\n",
       "      <th>Survived</th>\n",
       "      <th>Pclass</th>\n",
       "      <th>Name</th>\n",
       "      <th>Sex</th>\n",
       "      <th>Age</th>\n",
       "      <th>SibSp</th>\n",
       "      <th>Parch</th>\n",
       "      <th>Ticket</th>\n",
       "      <th>Fare</th>\n",
       "      <th>Cabin</th>\n",
       "      <th>Embarked</th>\n",
       "    </tr>\n",
       "  </thead>\n",
       "  <tbody>\n",
       "    <tr>\n",
       "      <th>0</th>\n",
       "      <td>1</td>\n",
       "      <td>0</td>\n",
       "      <td>3</td>\n",
       "      <td>Braund, Mr. Owen Harris</td>\n",
       "      <td>male</td>\n",
       "      <td>22.0</td>\n",
       "      <td>1</td>\n",
       "      <td>0</td>\n",
       "      <td>A/5 21171</td>\n",
       "      <td>7.2500</td>\n",
       "      <td>NaN</td>\n",
       "      <td>S</td>\n",
       "    </tr>\n",
       "    <tr>\n",
       "      <th>1</th>\n",
       "      <td>2</td>\n",
       "      <td>1</td>\n",
       "      <td>1</td>\n",
       "      <td>Cumings, Mrs. John Bradley (Florence Briggs Th...</td>\n",
       "      <td>female</td>\n",
       "      <td>38.0</td>\n",
       "      <td>1</td>\n",
       "      <td>0</td>\n",
       "      <td>PC 17599</td>\n",
       "      <td>71.2833</td>\n",
       "      <td>C85</td>\n",
       "      <td>C</td>\n",
       "    </tr>\n",
       "    <tr>\n",
       "      <th>2</th>\n",
       "      <td>3</td>\n",
       "      <td>1</td>\n",
       "      <td>3</td>\n",
       "      <td>Heikkinen, Miss. Laina</td>\n",
       "      <td>female</td>\n",
       "      <td>26.0</td>\n",
       "      <td>0</td>\n",
       "      <td>0</td>\n",
       "      <td>STON/O2. 3101282</td>\n",
       "      <td>7.9250</td>\n",
       "      <td>NaN</td>\n",
       "      <td>S</td>\n",
       "    </tr>\n",
       "    <tr>\n",
       "      <th>3</th>\n",
       "      <td>4</td>\n",
       "      <td>1</td>\n",
       "      <td>1</td>\n",
       "      <td>Futrelle, Mrs. Jacques Heath (Lily May Peel)</td>\n",
       "      <td>female</td>\n",
       "      <td>35.0</td>\n",
       "      <td>1</td>\n",
       "      <td>0</td>\n",
       "      <td>113803</td>\n",
       "      <td>53.1000</td>\n",
       "      <td>C123</td>\n",
       "      <td>S</td>\n",
       "    </tr>\n",
       "    <tr>\n",
       "      <th>4</th>\n",
       "      <td>5</td>\n",
       "      <td>0</td>\n",
       "      <td>3</td>\n",
       "      <td>Allen, Mr. William Henry</td>\n",
       "      <td>male</td>\n",
       "      <td>35.0</td>\n",
       "      <td>0</td>\n",
       "      <td>0</td>\n",
       "      <td>373450</td>\n",
       "      <td>8.0500</td>\n",
       "      <td>NaN</td>\n",
       "      <td>S</td>\n",
       "    </tr>\n",
       "  </tbody>\n",
       "</table>\n",
       "</div>"
      ]
     },
     "execution_count": 290,
     "metadata": {},
     "output_type": "execute_result"
    }
   ],
   "execution_count": 290
  },
  {
   "metadata": {
    "ExecuteTime": {
     "end_time": "2025-06-12T12:31:00.439037Z",
     "start_time": "2025-06-12T12:31:00.317256Z"
    }
   },
   "cell_type": "code",
   "source": [
    "histo_survived = sns.histplot(df['Survived'], bins = 2)\n",
    "histo_survived.set_xticks([0 ,1])\n",
    "histo_survived.set_title('Nombre de survivants')\n",
    "plt.show()\n"
   ],
   "id": "840b42153aa7d51b",
   "outputs": [
    {
     "data": {
      "text/plain": [
       "<Figure size 640x480 with 1 Axes>"
      ],
      "image/png": "[encoded data removed]"
     },
     "metadata": {},
     "output_type": "display_data"
    }
   ],
   "execution_count": 291
  },
  {
   "metadata": {
    "ExecuteTime": {
     "end_time": "2025-06-12T12:31:00.503772Z",
     "start_time": "2025-06-12T12:31:00.485121Z"
    }
   },
   "cell_type": "code",
   "source": "df.describe()",
   "id": "a24f64e12d9f9206",
   "outputs": [
    {
     "data": {
      "text/plain": [
       "       PassengerId    Survived      Pclass         Age       SibSp  \\\n",
       "count   891.000000  891.000000  891.000000  714.000000  891.000000   \n",
       "mean    446.000000    0.383838    2.308642   29.699118    0.523008   \n",
       "std     257.353842    0.486592    0.836071   14.526497    1.102743   \n",
       "min       1.000000    0.000000    1.000000    0.420000    0.000000   \n",
       "25%     223.500000    0.000000    2.000000   20.125000    0.000000   \n",
       "50%     446.000000    0.000000    3.000000   28.000000    0.000000   \n",
       "75%     668.500000    1.000000    3.000000   38.000000    1.000000   \n",
       "max     891.000000    1.000000    3.000000   80.000000    8.000000   \n",
       "\n",
       "            Parch        Fare  \n",
       "count  891.000000  891.000000  \n",
       "mean     0.381594   32.204208  \n",
       "std      0.806057   49.693429  \n",
       "min      0.000000    0.000000  \n",
       "25%      0.000000    7.910400  \n",
       "50%      0.000000   14.454200  \n",
       "75%      0.000000   31.000000  \n",
       "max      6.000000  512.329200  "
      ],
      "text/html": [
       "<div>\n",
       "<style scoped>\n",
       "    .dataframe tbody tr th:only-of-type {\n",
       "        vertical-align: middle;\n",
       "    }\n",
       "\n",
       "    .dataframe tbody tr th {\n",
       "        vertical-align: top;\n",
       "    }\n",
       "\n",
       "    .dataframe thead th {\n",
       "        text-align: right;\n",
       "    }\n",
       "</style>\n",
       "<table border=\"1\" class=\"dataframe\">\n",
       "  <thead>\n",
       "    <tr style=\"text-align: right;\">\n",
       "      <th></th>\n",
       "      <th>PassengerId</th>\n",
       "      <th>Survived</th>\n",
       "      <th>Pclass</th>\n",
       "      <th>Age</th>\n",
       "      <th>SibSp</th>\n",
       "      <th>Parch</th>\n",
       "      <th>Fare</th>\n",
       "    </tr>\n",
       "  </thead>\n",
       "  <tbody>\n",
       "    <tr>\n",
       "      <th>count</th>\n",
       "      <td>891.000000</td>\n",
       "      <td>891.000000</td>\n",
       "      <td>891.000000</td>\n",
       "      <td>714.000000</td>\n",
       "      <td>891.000000</td>\n",
       "      <td>891.000000</td>\n",
       "      <td>891.000000</td>\n",
       "    </tr>\n",
       "    <tr>\n",
       "      <th>mean</th>\n",
       "      <td>446.000000</td>\n",
       "      <td>0.383838</td>\n",
       "      <td>2.308642</td>\n",
       "      <td>29.699118</td>\n",
       "      <td>0.523008</td>\n",
       "      <td>0.381594</td>\n",
       "      <td>32.204208</td>\n",
       "    </tr>\n",
       "    <tr>\n",
       "      <th>std</th>\n",
       "      <td>257.353842</td>\n",
       "      <td>0.486592</td>\n",
       "      <td>0.836071</td>\n",
       "      <td>14.526497</td>\n",
       "      <td>1.102743</td>\n",
       "      <td>0.806057</td>\n",
       "      <td>49.693429</td>\n",
       "    </tr>\n",
       "    <tr>\n",
       "      <th>min</th>\n",
       "      <td>1.000000</td>\n",
       "      <td>0.000000</td>\n",
       "      <td>1.000000</td>\n",
       "      <td>0.420000</td>\n",
       "      <td>0.000000</td>\n",
       "      <td>0.000000</td>\n",
       "      <td>0.000000</td>\n",
       "    </tr>\n",
       "    <tr>\n",
       "      <th>25%</th>\n",
       "      <td>223.500000</td>\n",
       "      <td>0.000000</td>\n",
       "      <td>2.000000</td>\n",
       "      <td>20.125000</td>\n",
       "      <td>0.000000</td>\n",
       "      <td>0.000000</td>\n",
       "      <td>7.910400</td>\n",
       "    </tr>\n",
       "    <tr>\n",
       "      <th>50%</th>\n",
       "      <td>446.000000</td>\n",
       "      <td>0.000000</td>\n",
       "      <td>3.000000</td>\n",
       "      <td>28.000000</td>\n",
       "      <td>0.000000</td>\n",
       "      <td>0.000000</td>\n",
       "      <td>14.454200</td>\n",
       "    </tr>\n",
       "    <tr>\n",
       "      <th>75%</th>\n",
       "      <td>668.500000</td>\n",
       "      <td>1.000000</td>\n",
       "      <td>3.000000</td>\n",
       "      <td>38.000000</td>\n",
       "      <td>1.000000</td>\n",
       "      <td>0.000000</td>\n",
       "      <td>31.000000</td>\n",
       "    </tr>\n",
       "    <tr>\n",
       "      <th>max</th>\n",
       "      <td>891.000000</td>\n",
       "      <td>1.000000</td>\n",
       "      <td>3.000000</td>\n",
       "      <td>80.000000</td>\n",
       "      <td>8.000000</td>\n",
       "      <td>6.000000</td>\n",
       "      <td>512.329200</td>\n",
       "    </tr>\n",
       "  </tbody>\n",
       "</table>\n",
       "</div>"
      ]
     },
     "execution_count": 292,
     "metadata": {},
     "output_type": "execute_result"
    }
   ],
   "execution_count": 292
  },
  {
   "metadata": {
    "ExecuteTime": {
     "end_time": "2025-06-12T12:31:00.697286Z",
     "start_time": "2025-06-12T12:31:00.563530Z"
    }
   },
   "cell_type": "code",
   "source": [
    "histo_pclass = sns.histplot(df['Pclass'], bins = 3)\n",
    "histo_pclass.set_xticks([1, 2, 3])\n",
    "histo_pclass.set_title('Nombre de passagers par classe')\n",
    "plt.show()"
   ],
   "id": "b374372022a27c13",
   "outputs": [
    {
     "data": {
      "text/plain": [
       "<Figure size 640x480 with 1 Axes>"
      ],
      "image/png": "[encoded data removed]"
     },
     "metadata": {},
     "output_type": "display_data"
    }
   ],
   "execution_count": 293
  },
  {
   "metadata": {
    "ExecuteTime": {
     "end_time": "2025-06-12T12:31:00.862723Z",
     "start_time": "2025-06-12T12:31:00.746258Z"
    }
   },
   "cell_type": "code",
   "source": [
    "histo_genre = sns.histplot(df['Sex'], bins = 2)\n",
    "histo_genre.set_xticks([0, 1])\n",
    "histo_genre.set_title('Nombre de passagers par genre')\n",
    "plt.show()"
   ],
   "id": "ddfb6eb125cec4a3",
   "outputs": [
    {
     "data": {
      "text/plain": [
       "<Figure size 640x480 with 1 Axes>"
      ],
      "image/png": "[encoded data removed]"
     },
     "metadata": {},
     "output_type": "display_data"
    }
   ],
   "execution_count": 294
  },
  {
   "metadata": {
    "ExecuteTime": {
     "end_time": "2025-06-12T12:31:01.009396Z",
     "start_time": "2025-06-12T12:31:00.889311Z"
    }
   },
   "cell_type": "code",
   "source": [
    "histo_embarked = sns.histplot(df['Embarked'], bins = 2)\n",
    "histo_embarked.set_title('Nombre de passagers par embarquement')\n",
    "plt.show()"
   ],
   "id": "a51236b92591eb3e",
   "outputs": [
    {
     "data": {
      "text/plain": [
       "<Figure size 640x480 with 1 Axes>"
      ],
      "image/png": "[encoded data removed]"
     },
     "metadata": {},
     "output_type": "display_data"
    }
   ],
   "execution_count": 295
  },
  {
   "metadata": {
    "ExecuteTime": {
     "end_time": "2025-06-12T12:31:01.197228Z",
     "start_time": "2025-06-12T12:31:01.015379Z"
    }
   },
   "cell_type": "code",
   "source": [
    "histo_age = sns.histplot(df['Age'])\n",
    "histo_age.set_title('Nombre de passagers par age')\n",
    "plt.show()"
   ],
   "id": "b2752220a2fd69b4",
   "outputs": [
    {
     "data": {
      "text/plain": [
       "<Figure size 640x480 with 1 Axes>"
      ],
      "image/png": "[encoded data removed]"
     },
     "metadata": {},
     "output_type": "display_data"
    }
   ],
   "execution_count": 296
  },
  {
   "metadata": {
    "ExecuteTime": {
     "end_time": "2025-06-12T12:31:01.467840Z",
     "start_time": "2025-06-12T12:31:01.223631Z"
    }
   },
   "cell_type": "code",
   "source": [
    "histo_age = sns.histplot(df['Fare'])\n",
    "histo_age.set_title('Nombre de passagers par prix du ticket')\n",
    "plt.show()"
   ],
   "id": "4341875a68137c5c",
   "outputs": [
    {
     "data": {
      "text/plain": [
       "<Figure size 640x480 with 1 Axes>"
      ],
      "image/png": "[encoded data removed]"
     },
     "metadata": {},
     "output_type": "display_data"
    }
   ],
   "execution_count": 297
  },
  {
   "metadata": {
    "ExecuteTime": {
     "end_time": "2025-06-12T12:31:01.487649Z",
     "start_time": "2025-06-12T12:31:01.484359Z"
    }
   },
   "cell_type": "code",
   "source": [
    "# correlation = df[['Survived', 'Age']].corr()\n",
    "#\n",
    "# plt.figure(figsize=(8,8))\n",
    "# sns.heatmap(correlation, annot=True, cmap=\"coolwarm\")\n",
    "# plt.tight_layout()\n",
    "# plt.show()"
   ],
   "id": "d2e65d17a0acc24d",
   "outputs": [],
   "execution_count": 298
  },
  {
   "metadata": {
    "ExecuteTime": {
     "end_time": "2025-06-12T12:31:01.507739Z",
     "start_time": "2025-06-12T12:31:01.504534Z"
    }
   },
   "cell_type": "code",
   "source": [
    "# correlation = df[['Survived', 'Pclass']].corr()\n",
    "#\n",
    "# plt.figure(figsize=(8,8))\n",
    "# sns.heatmap(correlation, annot=True, cmap=\"coolwarm\")\n",
    "# plt.tight_layout()\n",
    "# plt.show()"
   ],
   "id": "17de7d0c2099afaf",
   "outputs": [],
   "execution_count": 299
  },
  {
   "metadata": {
    "ExecuteTime": {
     "end_time": "2025-06-12T12:31:01.526530Z",
     "start_time": "2025-06-12T12:31:01.523811Z"
    }
   },
   "cell_type": "code",
   "source": [
    "# df['Sex'] = df['Sex'].map({'male': 0, 'female': 1})\n",
    "#\n",
    "# df = df.apply(pd.to_numeric, errors='coerce')\n",
    "#\n"
   ],
   "id": "9c2de6bc03764225",
   "outputs": [],
   "execution_count": 300
  },
  {
   "metadata": {
    "ExecuteTime": {
     "end_time": "2025-06-12T12:31:01.546646Z",
     "start_time": "2025-06-12T12:31:01.543415Z"
    }
   },
   "cell_type": "code",
   "source": [
    "# correlation = df[['Survived', 'Sex']].corr()\n",
    "#\n",
    "# plt.figure(figsize=(8,8))\n",
    "# sns.heatmap(correlation, annot=True, cmap=\"coolwarm\")\n",
    "# plt.tight_layout()\n",
    "# plt.show()"
   ],
   "id": "f0a4cf073d635804",
   "outputs": [],
   "execution_count": 301
  },
  {
   "metadata": {
    "ExecuteTime": {
     "end_time": "2025-06-12T12:31:01.567493Z",
     "start_time": "2025-06-12T12:31:01.563995Z"
    }
   },
   "cell_type": "code",
   "source": [
    "# # Sélectionner automatiquement toutes les colonnes numériques\n",
    "# correlation = df.select_dtypes(include=[np.number]).corr()\n",
    "#\n",
    "# plt.figure(figsize=(9, 9))\n",
    "# sns.heatmap(correlation,\n",
    "#            annot=True,\n",
    "#            cmap=\"coolwarm\",\n",
    "#            center=0,\n",
    "#            square=True,\n",
    "#            fmt='.2f')\n",
    "# plt.title(\"Matrice de Corrélation Complète\")\n",
    "# plt.tight_layout()\n",
    "# plt.show()"
   ],
   "id": "38067ef452be1259",
   "outputs": [],
   "execution_count": 302
  },
  {
   "metadata": {
    "ExecuteTime": {
     "end_time": "2025-06-12T12:31:01.591291Z",
     "start_time": "2025-06-12T12:31:01.584253Z"
    }
   },
   "cell_type": "code",
   "source": [
    "# Compter le nombre de colonnes null\n",
    "df.isna().sum()"
   ],
   "id": "4234d4fae358b26",
   "outputs": [
    {
     "data": {
      "text/plain": [
       "PassengerId      0\n",
       "Survived         0\n",
       "Pclass           0\n",
       "Name             0\n",
       "Sex              0\n",
       "Age            177\n",
       "SibSp            0\n",
       "Parch            0\n",
       "Ticket           0\n",
       "Fare             0\n",
       "Cabin          687\n",
       "Embarked         2\n",
       "dtype: int64"
      ]
     },
     "execution_count": 303,
     "metadata": {},
     "output_type": "execute_result"
    }
   ],
   "execution_count": 303
  },
  {
   "metadata": {},
   "cell_type": "markdown",
   "source": [
    "## Moyenne d'age\n",
    "\n",
    "On va calculer la moyenne d'age pour remplcater les âges null + tard"
   ],
   "id": "724fb2a623623892"
  },
  {
   "metadata": {
    "ExecuteTime": {
     "end_time": "2025-06-12T12:31:01.650949Z",
     "start_time": "2025-06-12T12:31:01.646604Z"
    }
   },
   "cell_type": "code",
   "source": [
    "# Calcul de la moyenne d'age (pour fix plus tard)\n",
    "moyenne = df.loc[df['Age'].notna(), 'Age'].mean()\n",
    "moyenne = round(moyenne)\n",
    "print(f'La moyenne d\\'age est de {moyenne} ans.')"
   ],
   "id": "ff767dc8c84b6eb8",
   "outputs": [
    {
     "name": "stdout",
     "output_type": "stream",
     "text": [
      "La moyenne d'age est de 30 ans.\n"
     ]
    }
   ],
   "execution_count": 304
  },
  {
   "metadata": {
    "ExecuteTime": {
     "end_time": "2025-06-12T12:31:01.706028Z",
     "start_time": "2025-06-12T12:31:01.698786Z"
    }
   },
   "cell_type": "code",
   "source": [
    "# Copier est données dans un autre df\n",
    "df_clean = df\n",
    "\n",
    "# copierla correction de l'age  dans le dataframe copié\n",
    "df_clean['Age'] = df['Age'].fillna(moyenne)\n",
    "\n",
    "# Recompter qu'il n'y a plus de colonne null\n",
    "df_clean.isna().sum()"
   ],
   "id": "270ebdd84e5ae0b7",
   "outputs": [
    {
     "data": {
      "text/plain": [
       "PassengerId      0\n",
       "Survived         0\n",
       "Pclass           0\n",
       "Name             0\n",
       "Sex              0\n",
       "Age              0\n",
       "SibSp            0\n",
       "Parch            0\n",
       "Ticket           0\n",
       "Fare             0\n",
       "Cabin          687\n",
       "Embarked         2\n",
       "dtype: int64"
      ]
     },
     "execution_count": 305,
     "metadata": {},
     "output_type": "execute_result"
    }
   ],
   "execution_count": 305
  },
  {
   "metadata": {
    "ExecuteTime": {
     "end_time": "2025-06-12T12:31:01.776034Z",
     "start_time": "2025-06-12T12:31:01.766811Z"
    }
   },
   "cell_type": "code",
   "source": [
    "df_clean.drop(['PassengerId', 'Name', 'Fare', 'Ticket', 'Cabin'], axis=1, inplace=True)\n",
    "\n",
    "df_clean.head(5)"
   ],
   "id": "fe61e88c3822d72",
   "outputs": [
    {
     "data": {
      "text/plain": [
       "   Survived  Pclass     Sex   Age  SibSp  Parch Embarked\n",
       "0         0       3    male  22.0      1      0        S\n",
       "1         1       1  female  38.0      1      0        C\n",
       "2         1       3  female  26.0      0      0        S\n",
       "3         1       1  female  35.0      1      0        S\n",
       "4         0       3    male  35.0      0      0        S"
      ],
      "text/html": [
       "<div>\n",
       "<style scoped>\n",
       "    .dataframe tbody tr th:only-of-type {\n",
       "        vertical-align: middle;\n",
       "    }\n",
       "\n",
       "    .dataframe tbody tr th {\n",
       "        vertical-align: top;\n",
       "    }\n",
       "\n",
       "    .dataframe thead th {\n",
       "        text-align: right;\n",
       "    }\n",
       "</style>\n",
       "<table border=\"1\" class=\"dataframe\">\n",
       "  <thead>\n",
       "    <tr style=\"text-align: right;\">\n",
       "      <th></th>\n",
       "      <th>Survived</th>\n",
       "      <th>Pclass</th>\n",
       "      <th>Sex</th>\n",
       "      <th>Age</th>\n",
       "      <th>SibSp</th>\n",
       "      <th>Parch</th>\n",
       "      <th>Embarked</th>\n",
       "    </tr>\n",
       "  </thead>\n",
       "  <tbody>\n",
       "    <tr>\n",
       "      <th>0</th>\n",
       "      <td>0</td>\n",
       "      <td>3</td>\n",
       "      <td>male</td>\n",
       "      <td>22.0</td>\n",
       "      <td>1</td>\n",
       "      <td>0</td>\n",
       "      <td>S</td>\n",
       "    </tr>\n",
       "    <tr>\n",
       "      <th>1</th>\n",
       "      <td>1</td>\n",
       "      <td>1</td>\n",
       "      <td>female</td>\n",
       "      <td>38.0</td>\n",
       "      <td>1</td>\n",
       "      <td>0</td>\n",
       "      <td>C</td>\n",
       "    </tr>\n",
       "    <tr>\n",
       "      <th>2</th>\n",
       "      <td>1</td>\n",
       "      <td>3</td>\n",
       "      <td>female</td>\n",
       "      <td>26.0</td>\n",
       "      <td>0</td>\n",
       "      <td>0</td>\n",
       "      <td>S</td>\n",
       "    </tr>\n",
       "    <tr>\n",
       "      <th>3</th>\n",
       "      <td>1</td>\n",
       "      <td>1</td>\n",
       "      <td>female</td>\n",
       "      <td>35.0</td>\n",
       "      <td>1</td>\n",
       "      <td>0</td>\n",
       "      <td>S</td>\n",
       "    </tr>\n",
       "    <tr>\n",
       "      <th>4</th>\n",
       "      <td>0</td>\n",
       "      <td>3</td>\n",
       "      <td>male</td>\n",
       "      <td>35.0</td>\n",
       "      <td>0</td>\n",
       "      <td>0</td>\n",
       "      <td>S</td>\n",
       "    </tr>\n",
       "  </tbody>\n",
       "</table>\n",
       "</div>"
      ]
     },
     "execution_count": 306,
     "metadata": {},
     "output_type": "execute_result"
    }
   ],
   "execution_count": 306
  },
  {
   "metadata": {},
   "cell_type": "markdown",
   "source": [
    "## Encoder les colonnes textuelles\n",
    "\n",
    "Un modèle d'entrainement a besoin en général des données numériques\n",
    "\n",
    "Donc les colonnes comme Sex, Embarked doivent être numériques\n",
    "\n",
    "Donc on va utiliser OneHotEncoder pour transformer ces deux colonnes en version numérique\n",
    "\n"
   ],
   "id": "424566d89bce9e3"
  },
  {
   "metadata": {
    "ExecuteTime": {
     "end_time": "2025-06-12T12:32:21.510300Z",
     "start_time": "2025-06-12T12:32:21.486654Z"
    }
   },
   "cell_type": "code",
   "source": [
    "from sklearn.preprocessing import OneHotEncoder\n",
    "\n",
    "# Créer la stratégie pour encoder colonnes textuelles\n",
    "encoder = OneHotEncoder(drop = 'if_binary')\n",
    "\n",
    "# Il va transformer les colonnes sex et embarked en num\n",
    "cols_encoded = encoder.fit_transform(df_clean[['Sex', 'Embarked']])\n",
    "\n",
    "# Il le fait dans une nouvelle copie en mémoire (pas encore un array)\n",
    "# Nous on veut cette copie en array Numpy\n",
    "cols_encoded_array = cols_encoded.toarray()\n",
    "\n",
    "# car on veut insérer le nouveau array de colonnes transformées dans un DataFrame (numpy array obligatoire)\n",
    "new_cols = np.array(cols_encoded_array)"
   ],
   "id": "576d0688c5393821",
   "outputs": [],
   "execution_count": 308
  },
  {
   "metadata": {
    "ExecuteTime": {
     "end_time": "2025-06-12T12:32:41.029259Z",
     "start_time": "2025-06-12T12:32:41.023586Z"
    }
   },
   "cell_type": "code",
   "source": "print(new_cols[:5])",
   "id": "ca9abf14d2189bf6",
   "outputs": [
    {
     "name": "stdout",
     "output_type": "stream",
     "text": [
      "[[1. 0. 0. 1. 0.]\n",
      " [0. 1. 0. 0. 0.]\n",
      " [0. 0. 0. 1. 0.]\n",
      " [0. 0. 0. 1. 0.]\n",
      " [1. 0. 0. 1. 0.]]\n"
     ]
    }
   ],
   "execution_count": 309
  },
  {
   "metadata": {
    "ExecuteTime": {
     "end_time": "2025-06-12T12:35:17.070872Z",
     "start_time": "2025-06-12T12:35:17.066185Z"
    }
   },
   "cell_type": "code",
   "source": [
    "labels = encoder.get_feature_names_out(['Sex', 'Embarked'])\n",
    "print(labels)"
   ],
   "id": "affe3b6b7d5aa40f",
   "outputs": [
    {
     "name": "stdout",
     "output_type": "stream",
     "text": [
      "['Sex_male' 'Embarked_C' 'Embarked_Q' 'Embarked_S' 'Embarked_nan']\n"
     ]
    }
   ],
   "execution_count": 310
  },
  {
   "metadata": {},
   "cell_type": "markdown",
   "source": "## Fusionner toutes les colonnes",
   "id": "1c7935ed11f670f0"
  },
  {
   "metadata": {},
   "cell_type": "code",
   "outputs": [
    {
     "data": {
      "text/plain": [
       "   Survived  Pclass     Sex   Age  SibSp  Parch Embarked  Sex_male  \\\n",
       "0         0       3    male  22.0      1      0        S       1.0   \n",
       "1         1       1  female  38.0      1      0        C       0.0   \n",
       "2         1       3  female  26.0      0      0        S       0.0   \n",
       "3         1       1  female  35.0      1      0        S       0.0   \n",
       "4         0       3    male  35.0      0      0        S       1.0   \n",
       "\n",
       "   Embarked_C  Embarked_Q  Embarked_S  Embarked_nan  \n",
       "0         0.0         0.0         1.0           0.0  \n",
       "1         1.0         0.0         0.0           0.0  \n",
       "2         0.0         0.0         1.0           0.0  \n",
       "3         0.0         0.0         1.0           0.0  \n",
       "4         0.0         0.0         1.0           0.0  "
      ],
      "text/html": [
       "<div>\n",
       "<style scoped>\n",
       "    .dataframe tbody tr th:only-of-type {\n",
       "        vertical-align: middle;\n",
       "    }\n",
       "\n",
       "    .dataframe tbody tr th {\n",
       "        vertical-align: top;\n",
       "    }\n",
       "\n",
       "    .dataframe thead th {\n",
       "        text-align: right;\n",
       "    }\n",
       "</style>\n",
       "<table border=\"1\" class=\"dataframe\">\n",
       "  <thead>\n",
       "    <tr style=\"text-align: right;\">\n",
       "      <th></th>\n",
       "      <th>Survived</th>\n",
       "      <th>Pclass</th>\n",
       "      <th>Sex</th>\n",
       "      <th>Age</th>\n",
       "      <th>SibSp</th>\n",
       "      <th>Parch</th>\n",
       "      <th>Embarked</th>\n",
       "      <th>Sex_male</th>\n",
       "      <th>Embarked_C</th>\n",
       "      <th>Embarked_Q</th>\n",
       "      <th>Embarked_S</th>\n",
       "      <th>Embarked_nan</th>\n",
       "    </tr>\n",
       "  </thead>\n",
       "  <tbody>\n",
       "    <tr>\n",
       "      <th>0</th>\n",
       "      <td>0</td>\n",
       "      <td>3</td>\n",
       "      <td>male</td>\n",
       "      <td>22.0</td>\n",
       "      <td>1</td>\n",
       "      <td>0</td>\n",
       "      <td>S</td>\n",
       "      <td>1.0</td>\n",
       "      <td>0.0</td>\n",
       "      <td>0.0</td>\n",
       "      <td>1.0</td>\n",
       "      <td>0.0</td>\n",
       "    </tr>\n",
       "    <tr>\n",
       "      <th>1</th>\n",
       "      <td>1</td>\n",
       "      <td>1</td>\n",
       "      <td>female</td>\n",
       "      <td>38.0</td>\n",
       "      <td>1</td>\n",
       "      <td>0</td>\n",
       "      <td>C</td>\n",
       "      <td>0.0</td>\n",
       "      <td>1.0</td>\n",
       "      <td>0.0</td>\n",
       "      <td>0.0</td>\n",
       "      <td>0.0</td>\n",
       "    </tr>\n",
       "    <tr>\n",
       "      <th>2</th>\n",
       "      <td>1</td>\n",
       "      <td>3</td>\n",
       "      <td>female</td>\n",
       "      <td>26.0</td>\n",
       "      <td>0</td>\n",
       "      <td>0</td>\n",
       "      <td>S</td>\n",
       "      <td>0.0</td>\n",
       "      <td>0.0</td>\n",
       "      <td>0.0</td>\n",
       "      <td>1.0</td>\n",
       "      <td>0.0</td>\n",
       "    </tr>\n",
       "    <tr>\n",
       "      <th>3</th>\n",
       "      <td>1</td>\n",
       "      <td>1</td>\n",
       "      <td>female</td>\n",
       "      <td>35.0</td>\n",
       "      <td>1</td>\n",
       "      <td>0</td>\n",
       "      <td>S</td>\n",
       "      <td>0.0</td>\n",
       "      <td>0.0</td>\n",
       "      <td>0.0</td>\n",
       "      <td>1.0</td>\n",
       "      <td>0.0</td>\n",
       "    </tr>\n",
       "    <tr>\n",
       "      <th>4</th>\n",
       "      <td>0</td>\n",
       "      <td>3</td>\n",
       "      <td>male</td>\n",
       "      <td>35.0</td>\n",
       "      <td>0</td>\n",
       "      <td>0</td>\n",
       "      <td>S</td>\n",
       "      <td>1.0</td>\n",
       "      <td>0.0</td>\n",
       "      <td>0.0</td>\n",
       "      <td>1.0</td>\n",
       "      <td>0.0</td>\n",
       "    </tr>\n",
       "  </tbody>\n",
       "</table>\n",
       "</div>"
      ]
     },
     "execution_count": 311,
     "metadata": {},
     "output_type": "execute_result"
    }
   ],
   "execution_count": 311,
   "source": [
    "# Convertir le narray col_encoded_array en DataFrame\n",
    "# Il faut s'imaginer qu'on crée un nouvel Excel en mémoire mais avec les colonnes ['Sex_male' 'Embarked_C' 'Embarked_Q' 'Embarked_S' 'Embarked_nan'] avec [[1. 0. 0. 1. 0.]\n",
    " #[0. 1. 0. 0. 0.]\n",
    "df_cols_encoded = pd.DataFrame(cols_encoded_array, columns=labels)\n",
    "\n",
    "# join = fusionner plusieurs DF (fusion de plusieurs Excel)\n",
    "# Warning : par défaut join fait une copie\n",
    "df_clean = df_clean.join(df_cols_encoded)\n",
    "\n",
    "# Vérifier que les nouvelles colonnes ont été insérées\n",
    "df_clean.head(5)"
   ],
   "id": "f70e281b82b536c9"
  },
  {
   "metadata": {},
   "cell_type": "markdown",
   "source": [
    "## Re-supprimer les colonnes non numériques\n",
    "\n",
    "On le fait pour le model d'entraînement"
   ],
   "id": "37db0f915e684f69"
  },
  {
   "metadata": {
    "ExecuteTime": {
     "end_time": "2025-06-12T12:48:46.328031Z",
     "start_time": "2025-06-12T12:48:46.315830Z"
    }
   },
   "cell_type": "code",
   "source": [
    "df_clean.drop(['Sex', 'Embarked'], axis=1, inplace=True)\n",
    "\n",
    "df_clean.head(5)"
   ],
   "id": "4d818a65067eadf0",
   "outputs": [
    {
     "data": {
      "text/plain": [
       "   Survived  Pclass   Age  SibSp  Parch  Sex_male  Embarked_C  Embarked_Q  \\\n",
       "0         0       3  22.0      1      0       1.0         0.0         0.0   \n",
       "1         1       1  38.0      1      0       0.0         1.0         0.0   \n",
       "2         1       3  26.0      0      0       0.0         0.0         0.0   \n",
       "3         1       1  35.0      1      0       0.0         0.0         0.0   \n",
       "4         0       3  35.0      0      0       1.0         0.0         0.0   \n",
       "\n",
       "   Embarked_S  Embarked_nan  \n",
       "0         1.0           0.0  \n",
       "1         0.0           0.0  \n",
       "2         1.0           0.0  \n",
       "3         1.0           0.0  \n",
       "4         1.0           0.0  "
      ],
      "text/html": [
       "<div>\n",
       "<style scoped>\n",
       "    .dataframe tbody tr th:only-of-type {\n",
       "        vertical-align: middle;\n",
       "    }\n",
       "\n",
       "    .dataframe tbody tr th {\n",
       "        vertical-align: top;\n",
       "    }\n",
       "\n",
       "    .dataframe thead th {\n",
       "        text-align: right;\n",
       "    }\n",
       "</style>\n",
       "<table border=\"1\" class=\"dataframe\">\n",
       "  <thead>\n",
       "    <tr style=\"text-align: right;\">\n",
       "      <th></th>\n",
       "      <th>Survived</th>\n",
       "      <th>Pclass</th>\n",
       "      <th>Age</th>\n",
       "      <th>SibSp</th>\n",
       "      <th>Parch</th>\n",
       "      <th>Sex_male</th>\n",
       "      <th>Embarked_C</th>\n",
       "      <th>Embarked_Q</th>\n",
       "      <th>Embarked_S</th>\n",
       "      <th>Embarked_nan</th>\n",
       "    </tr>\n",
       "  </thead>\n",
       "  <tbody>\n",
       "    <tr>\n",
       "      <th>0</th>\n",
       "      <td>0</td>\n",
       "      <td>3</td>\n",
       "      <td>22.0</td>\n",
       "      <td>1</td>\n",
       "      <td>0</td>\n",
       "      <td>1.0</td>\n",
       "      <td>0.0</td>\n",
       "      <td>0.0</td>\n",
       "      <td>1.0</td>\n",
       "      <td>0.0</td>\n",
       "    </tr>\n",
       "    <tr>\n",
       "      <th>1</th>\n",
       "      <td>1</td>\n",
       "      <td>1</td>\n",
       "      <td>38.0</td>\n",
       "      <td>1</td>\n",
       "      <td>0</td>\n",
       "      <td>0.0</td>\n",
       "      <td>1.0</td>\n",
       "      <td>0.0</td>\n",
       "      <td>0.0</td>\n",
       "      <td>0.0</td>\n",
       "    </tr>\n",
       "    <tr>\n",
       "      <th>2</th>\n",
       "      <td>1</td>\n",
       "      <td>3</td>\n",
       "      <td>26.0</td>\n",
       "      <td>0</td>\n",
       "      <td>0</td>\n",
       "      <td>0.0</td>\n",
       "      <td>0.0</td>\n",
       "      <td>0.0</td>\n",
       "      <td>1.0</td>\n",
       "      <td>0.0</td>\n",
       "    </tr>\n",
       "    <tr>\n",
       "      <th>3</th>\n",
       "      <td>1</td>\n",
       "      <td>1</td>\n",
       "      <td>35.0</td>\n",
       "      <td>1</td>\n",
       "      <td>0</td>\n",
       "      <td>0.0</td>\n",
       "      <td>0.0</td>\n",
       "      <td>0.0</td>\n",
       "      <td>1.0</td>\n",
       "      <td>0.0</td>\n",
       "    </tr>\n",
       "    <tr>\n",
       "      <th>4</th>\n",
       "      <td>0</td>\n",
       "      <td>3</td>\n",
       "      <td>35.0</td>\n",
       "      <td>0</td>\n",
       "      <td>0</td>\n",
       "      <td>1.0</td>\n",
       "      <td>0.0</td>\n",
       "      <td>0.0</td>\n",
       "      <td>1.0</td>\n",
       "      <td>0.0</td>\n",
       "    </tr>\n",
       "  </tbody>\n",
       "</table>\n",
       "</div>"
      ]
     },
     "execution_count": 312,
     "metadata": {},
     "output_type": "execute_result"
    }
   ],
   "execution_count": 312
  },
  {
   "metadata": {},
   "cell_type": "markdown",
   "source": "## Exporter en fichier csv",
   "id": "c6454f450ef7c4e5"
  },
  {
   "metadata": {},
   "cell_type": "code",
   "outputs": [],
   "execution_count": 313,
   "source": "df_clean.to_csv('D:/PythonProject1/titanic/datas/titanic_clean.csv', index=False)",
   "id": "f552e460b46f31a9"
  }
 ],
 "metadata": {
  "kernelspec": {
   "display_name": "Python 3",
   "language": "python",
   "name": "python3"
  },
  "language_info": {
   "codemirror_mode": {
    "name": "ipython",
    "version": 2
   },
   "file_extension": ".py",
   "mimetype": "text/x-python",
   "name": "python",
   "nbconvert_exporter": "python",
   "pygments_lexer": "ipython2",
   "version": "2.7.6"
  }
 },
 "nbformat": 4,
 "nbformat_minor": 5
}
