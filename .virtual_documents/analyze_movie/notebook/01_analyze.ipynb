import numpy as np

# Array 1D
# Inconvenients : obligé de créer un tableau pour chaque type de donnée
titles = np.array(["Teletubies", "Sharknado"])
genres = np.array(["Comedy", "Nanar"])
durations = np.array([26, 146])

# Afficher titres et genres
print(titles)
print(genres)

# Afficher la durée la plus longue
max_duration = np.max(durations)
print(f'Le film le plus long est de {max_duration} minutes')



