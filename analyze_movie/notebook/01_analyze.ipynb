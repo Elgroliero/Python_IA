{
 "cells": [
  {
   "cell_type": "code",
   "execution_count": 1,
   "id": "initial_id",
   "metadata": {
    "ExecuteTime": {
     "end_time": "2025-06-10T09:31:02.927852Z",
     "start_time": "2025-06-10T09:31:02.918765Z"
    }
   },
   "outputs": [
    {
     "name": "stdout",
     "output_type": "stream",
     "text": [
      "['Teletubies' 'Sharknado']\n",
      "['Comedy' 'Nanar']\n",
      "Le film le plus long est de 146 minutes\n"
     ]
    }
   ],
   "source": [
    "import numpy as np\n",
    "\n",
    "# Array 1D\n",
    "# Inconvenients : obligé de créer un tableau pour chaque type de donnée\n",
    "titles = np.array([\"Teletubies\", \"Sharknado\"])\n",
    "genres = np.array([\"Comedy\", \"Nanar\"])\n",
    "durations = np.array([26, 146])\n",
    "\n",
    "# Afficher titres et genres\n",
    "print(titles)\n",
    "print(genres)\n",
    "\n",
    "# Afficher la durée la plus longue\n",
    "max_duration = np.max(durations)\n",
    "print(f'Le film le plus long est de {max_duration} minutes')"
   ]
  },
  {
   "cell_type": "code",
   "execution_count": null,
   "id": "537ca16ff8f3fb42",
   "metadata": {},
   "outputs": [],
   "source": []
  }
 ],
 "metadata": {
  "kernelspec": {
   "display_name": "Python 3 (ipykernel)",
   "language": "python",
   "name": "python3"
  },
  "language_info": {
   "codemirror_mode": {
    "name": "ipython",
    "version": 3
   },
   "file_extension": ".py",
   "mimetype": "text/x-python",
   "name": "python",
   "nbconvert_exporter": "python",
   "pygments_lexer": "ipython3",
   "version": "3.12.7"
  }
 },
 "nbformat": 4,
 "nbformat_minor": 5
}
