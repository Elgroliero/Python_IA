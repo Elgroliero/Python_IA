{
 "cells": [
  {
   "cell_type": "code",
   "id": "initial_id",
   "metadata": {
    "ExecuteTime": {
     "end_time": "2025-06-10T10:05:47.005107Z",
     "start_time": "2025-06-10T10:05:46.999143Z"
    }
   },
   "source": [
    "import numpy as np\n",
    "\n",
    "#Constantes des indexs de colonne pour des films\n",
    "COL_TITLE = 0 # La colonne titre\n",
    "COL_GENRE = 1 # La colonne genre\n",
    "COL_DURATION = 2 # La colonne durée\n",
    "\n",
    "# Array 1D\n",
    "# Inconvenients : obligé de créer un tableau pour chaque type de donnée\n",
    "titles = np.array([\"Teletubies\", \"Sharknado\"])\n",
    "genres = np.array([\"Comedy\", \"Nanar\"])\n",
    "durations = np.array([26, 146])\n",
    "\n",
    "# Afficher titres et genres\n",
    "print(titles)\n",
    "print(genres)\n",
    "\n",
    "#Array 2D en 2 dimensions\n",
    "#Inconvenients : on doit deviner le nom de la colonne\n",
    "#Columns: Title     | Genres    | Durations\n",
    "#    -------------------------------------------\n",
    "#Ligne0: Teletubies | Comedy    | 26\n",
    "#Ligne1: Sharknado  | Nanar     | 146\n",
    "movies_data = np.array([\n",
    "    [\"Teletubies\", \"Sharknado\"],\n",
    "    [\"Comedy\", \"Nanar\"],\n",
    "    [26, 146]\n",
    "])\n",
    "\n",
    "#Récupérer TOUTES les données de la ligne 1\n",
    "print(movies_data[:, 0])\n",
    "\n",
    "#Récupérer TOUTES les données de la ligne 2\n",
    "print(movies_data[:, 1])\n",
    "\n",
    "#Récupérer une colonne\n",
    "print(movies_data[0])\n",
    "\n",
    "#Récupérer la colonne 1 de la ligne 1 (metier: le titre du film 1\n",
    "print(movies_data[1, 1])\n",
    "\n",
    "#Récupérer la colonne 3 de la ligne\n",
    "print(f'La durée du film 1 : {movies_data[COL_DURATION, 0]} minutes')\n",
    "\n",
    "\n",
    "# Afficher la durée la plus longue\n",
    "max_duration = np.max(durations)\n",
    "print(f'Le film le plus long est de {max_duration} minutes')\n",
    "\n",
    "\n",
    "# Maintenant vous pouvez calculer le maximum\n",
    "print(f'Le film le plus long est de {np.max(movies_data[COL_DURATION,:].astype(int))} minutes')\n",
    "\n"
   ],
   "outputs": [
    {
     "name": "stdout",
     "output_type": "stream",
     "text": [
      "['Teletubies' 'Sharknado']\n",
      "['Comedy' 'Nanar']\n",
      "['Teletubies' 'Comedy' '26']\n",
      "['Sharknado' 'Nanar' '146']\n",
      "['Teletubies' 'Sharknado']\n",
      "Nanar\n",
      "La durée du film 1 : 26 minutes\n",
      "Le film le plus long est de 146 minutes\n",
      "Le film le plus long est de 146 minutes\n"
     ]
    }
   ],
   "execution_count": 19
  },
  {
   "cell_type": "code",
   "id": "537ca16ff8f3fb42",
   "metadata": {
    "ExecuteTime": {
     "end_time": "2025-06-10T09:56:09.174Z",
     "start_time": "2025-06-10T09:56:09.171480Z"
    }
   },
   "source": [],
   "outputs": [],
   "execution_count": null
  }
 ],
 "metadata": {
  "kernelspec": {
   "display_name": "Python 3 (ipykernel)",
   "language": "python",
   "name": "python3"
  },
  "language_info": {
   "codemirror_mode": {
    "name": "ipython",
    "version": 3
   },
   "file_extension": ".py",
   "mimetype": "text/x-python",
   "name": "python",
   "nbconvert_exporter": "python",
   "pygments_lexer": "ipython3",
   "version": "3.12.7"
  }
 },
 "nbformat": 4,
 "nbformat_minor": 5
}
