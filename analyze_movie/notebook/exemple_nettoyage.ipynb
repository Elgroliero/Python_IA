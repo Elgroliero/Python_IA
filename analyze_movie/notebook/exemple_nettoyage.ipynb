{
 "cells": [
  {
   "metadata": {},
   "cell_type": "markdown",
   "source": "## Nettoyage : Typage incohérent",
   "id": "4361f22ac522ac88"
  },
  {
   "metadata": {
    "ExecuteTime": {
     "end_time": "2025-06-12T07:56:54.059795Z",
     "start_time": "2025-06-12T07:56:54.048123Z"
    }
   },
   "cell_type": "code",
   "source": [
    "import numpy as np\n",
    "import pandas as pd\n",
    "\n",
    "df = pd.DataFrame({\n",
    "    'maths' : [12, 8, 15],\n",
    "    'francais' : [14, 9, \"16\"],\n",
    "    'histoire' : [13, 10, 15],\n",
    "    'bac' : [15, 18, 9],\n",
    "})\n",
    "\n",
    "# Remplacer un typage erroné\n",
    "# pd.to_numeric : essaye de mettre en numérique\n",
    "# errors s'il n'arrive pas, laisse en null (NAN)\n",
    "df_clean = df.apply(pd.to_numeric, errors='coerce')\n",
    "\n",
    "print(df_clean)\n",
    "\n",
    "# Exemple que sur une colonne\n",
    "# 1 : soit je copie colle tout le df dans le df_clean et après je corrige que le français dans le df clean\n",
    "df_clean = df\n",
    "df_clean['francais'] = pd.to_numeric(df['francais'], errors='coerce')\n",
    "\n",
    "# 2 : je modifie la colonne de français directement dans le df origianl\n",
    "df['francais'] = pd.to_numeric(df['francais'], errors='coerce')\n",
    "\n",
    "print(\"-----------------------\")\n",
    "print(df['francais'])"
   ],
   "id": "95a194ef68f99764",
   "outputs": [
    {
     "name": "stdout",
     "output_type": "stream",
     "text": [
      "   maths  francais  histoire  bac\n",
      "0     12        14        13   15\n",
      "1      8         9        10   18\n",
      "2     15        16        15    9\n",
      "-----------------------\n",
      "0    14\n",
      "1     9\n",
      "2    16\n",
      "Name: francais, dtype: int64\n"
     ]
    }
   ],
   "execution_count": 5
  },
  {
   "metadata": {},
   "cell_type": "markdown",
   "source": "## Nettoyage : manque une donnée",
   "id": "1668db03350e9aa"
  },
  {
   "metadata": {
    "ExecuteTime": {
     "end_time": "2025-06-12T08:21:25.389099Z",
     "start_time": "2025-06-12T08:21:25.367160Z"
    }
   },
   "cell_type": "code",
   "source": [
    "#Manque une note dans histoire\n",
    "df = pd.DataFrame({\n",
    "    'maths' : [12, 8, 15],\n",
    "    'francais' : [14, 9, 16],\n",
    "    'histoire' : [13, 10, \"\"],\n",
    "    'bac' : [15, 18, 9],\n",
    "})\n",
    "\n",
    "# fillna = remplir les données manquantes\n",
    "df_clean_1 = df.apply(pd.to_numeric, errors='coerce')\n",
    "print(df_clean_1)\n",
    "\n",
    "# Ex : remplacer les données manquantes par 0\n",
    "df_clean_2 = df\n",
    "df_clean_2 = df_clean_2.fillna(0)\n",
    "print(df_clean_2)\n",
    "\n",
    "# Ex : remplacer les données manquantes par la moyenne\n",
    "#Mettre NAN à 0\n",
    "df = df.apply(pd.to_numeric, errors='coerce')\n",
    "df['histoire'] = df['histoire'].fillna(0)\n",
    "print(df)\n",
    "\n",
    "# Calculer la moyenne sur les colonnes qui sont pas = 0\n",
    "moyenne = df.loc[df['histoire'] > 0, 'histoire'].mean()\n",
    "print(moyenne)\n",
    "\n",
    "# Remplacer les colonnes histoire à 0 par la moyenne\n",
    "# Attention c'est un guide technique (remplacer 0 par autre chose)\n",
    "# Dans un contexte réel on remplacerait les notes des élèves\n",
    "df.loc[df['histoire'] == 0, 'histoire'] = moyenne\n",
    "print(df)\n",
    "\n"
   ],
   "id": "cbb11b7714d17b80",
   "outputs": [
    {
     "name": "stdout",
     "output_type": "stream",
     "text": [
      "   maths  francais  histoire  bac\n",
      "0     12        14      13.0   15\n",
      "1      8         9      10.0   18\n",
      "2     15        16       NaN    9\n",
      "   maths  francais histoire  bac\n",
      "0     12        14       13   15\n",
      "1      8         9       10   18\n",
      "2     15        16             9\n",
      "   maths  francais  histoire  bac\n",
      "0     12        14      13.0   15\n",
      "1      8         9      10.0   18\n",
      "2     15        16       0.0    9\n",
      "11.5\n",
      "   maths  francais  histoire  bac\n",
      "0     12        14      13.0   15\n",
      "1      8         9      10.0   18\n",
      "2     15        16      11.5    9\n"
     ]
    }
   ],
   "execution_count": 15
  },
  {
   "metadata": {
    "ExecuteTime": {
     "end_time": "2025-06-12T08:32:37.202Z",
     "start_time": "2025-06-12T08:32:37.192559Z"
    }
   },
   "cell_type": "code",
   "source": [
    "df = pd.DataFrame({\n",
    "    'maths' : [12, 8, 15],\n",
    "    'francais' : [14, 9, 16],\n",
    "    'histoire' : [13, 10, pd.NA],\n",
    "    'bac' : [15, 18, 9],\n",
    "})\n",
    "\n",
    "# Exemple : renommer une colonne histoire par histoire_2\n",
    "df = df.rename(columns={'histoire' : 'histoire_2'})\n",
    "print(df)\n",
    "\n",
    "# Supprimer des lignes avec des données nulles\n",
    "df = df.dropna()\n",
    "print(df)"
   ],
   "id": "d45db0b27ae29e56",
   "outputs": [
    {
     "name": "stdout",
     "output_type": "stream",
     "text": [
      "   maths  francais histoire_2  bac\n",
      "0     12        14         13   15\n",
      "1      8         9         10   18\n",
      "2     15        16       <NA>    9\n",
      "   maths  francais histoire_2  bac\n",
      "0     12        14         13   15\n",
      "1      8         9         10   18\n"
     ]
    }
   ],
   "execution_count": 21
  }
 ],
 "metadata": {
  "kernelspec": {
   "display_name": "Python 3",
   "language": "python",
   "name": "python3"
  },
  "language_info": {
   "codemirror_mode": {
    "name": "ipython",
    "version": 2
   },
   "file_extension": ".py",
   "mimetype": "text/x-python",
   "name": "python",
   "nbconvert_exporter": "python",
   "pygments_lexer": "ipython2",
   "version": "2.7.6"
  }
 },
 "nbformat": 4,
 "nbformat_minor": 5
}
