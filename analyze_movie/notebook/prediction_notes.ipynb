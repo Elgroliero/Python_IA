{
 "cells": [
  {
   "cell_type": "code",
   "id": "initial_id",
   "metadata": {
    "collapsed": true,
    "ExecuteTime": {
     "end_time": "2025-06-11T08:18:47.848152Z",
     "start_time": "2025-06-11T08:18:47.836793Z"
    }
   },
   "source": [
    "# Notes réelles\n",
    "real_notes = [15, 18, 14]\n",
    "\n",
    "# Prédictions des notes\n",
    "predict_notes = [14, 17, 13]\n",
    "\n",
    "# MSE\n",
    "errors = []\n",
    "#Etape 1 : Calculer les erreurs\n",
    "for i in range(len(real_notes)):\n",
    "    print(real_notes[i], predict_notes[i])\n",
    "    error = real_notes[i] - predict_notes[i]\n",
    "    errors.append(error)\n",
    "    print(f\"L'écart Erreur est de {error}\")\n",
    "\n",
    "#Etape 2 : Mettre au crré les erreurs\n",
    "erreur_carre = [e**2 for e in errors]\n",
    "\n",
    "# Etape 3 : Somme des erreurs / nombre d'occurrence (Moyenne des erreurs)\n",
    "mse = sum(erreur_carre) / len(erreur_carre)\n",
    "\n",
    "print(f\"MSE est de : {mse}\")\n",
    "\n",
    "\n"
   ],
   "outputs": [
    {
     "name": "stdout",
     "output_type": "stream",
     "text": [
      "15 14\n",
      "L'écart Erreur est de 1\n",
      "18 17\n",
      "L'écart Erreur est de 1\n",
      "14 13\n",
      "L'écart Erreur est de 1\n",
      "MSE est de : 1.0\n"
     ]
    }
   ],
   "execution_count": 4
  }
 ],
 "metadata": {
  "kernelspec": {
   "display_name": "Python 3",
   "language": "python",
   "name": "python3"
  },
  "language_info": {
   "codemirror_mode": {
    "name": "ipython",
    "version": 2
   },
   "file_extension": ".py",
   "mimetype": "text/x-python",
   "name": "python",
   "nbconvert_exporter": "python",
   "pygments_lexer": "ipython2",
   "version": "2.7.6"
  }
 },
 "nbformat": 4,
 "nbformat_minor": 5
}
