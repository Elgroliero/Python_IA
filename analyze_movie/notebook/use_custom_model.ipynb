{
 "cells": [
  {
   "cell_type": "code",
   "id": "initial_id",
   "metadata": {
    "collapsed": true,
    "ExecuteTime": {
     "end_time": "2025-06-11T10:19:34.037817Z",
     "start_time": "2025-06-11T10:19:32.799748Z"
    }
   },
   "source": [
    "import pickle\n",
    "\n",
    "import pandas as pd\n",
    "\n",
    "with open('../model/model_predic_bac.pkl', 'rb') as file:\n",
    "    model_note_bac = pickle.load(file)\n",
    "\n",
    "df_un_seul_eleve = pd.DataFrame ({\n",
    "    'maths' : [14],\n",
    "    'français' : [14],\n",
    "    'histoire' : [14],\n",
    "})\n",
    "\n",
    "# Relancer une prédiction mais depuis le modèle chargé\n",
    "prediction_test = model_note_bac.predict(df_un_seul_eleve)\n",
    "\n",
    "# Afficher\n",
    "print(prediction_test)"
   ],
   "outputs": [
    {
     "name": "stdout",
     "output_type": "stream",
     "text": [
      "[12.56626851]\n"
     ]
    }
   ],
   "execution_count": 1
  }
 ],
 "metadata": {
  "kernelspec": {
   "display_name": "Python 3",
   "language": "python",
   "name": "python3"
  },
  "language_info": {
   "codemirror_mode": {
    "name": "ipython",
    "version": 2
   },
   "file_extension": ".py",
   "mimetype": "text/x-python",
   "name": "python",
   "nbconvert_exporter": "python",
   "pygments_lexer": "ipython2",
   "version": "2.7.6"
  }
 },
 "nbformat": 4,
 "nbformat_minor": 5
}
